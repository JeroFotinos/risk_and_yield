{
 "cells": [
  {
   "cell_type": "code",
   "execution_count": null,
   "id": "26c8fdb9",
   "metadata": {},
   "outputs": [],
   "source": [
    "from pathlib import Path\n",
    "import h5py"
   ]
  },
  {
   "cell_type": "markdown",
   "id": "4c1e664a",
   "metadata": {},
   "source": [
    "# Salida risknyield"
   ]
  },
  {
   "cell_type": "code",
   "execution_count": null,
   "id": "25e6fee4",
   "metadata": {},
   "outputs": [],
   "source": [
    "SIM_PATH = Path(\"../data/results/testing_fixtures_maize/maize_baseline.h5\")\n",
    "print(SIM_PATH.resolve())  # Te muestra la ruta absoluta\n",
    "print(SIM_PATH.exists())  # True si existe, False si no"
   ]
  },
  {
   "cell_type": "code",
   "execution_count": 22,
   "id": "2bf4bb21",
   "metadata": {},
   "outputs": [
    {
     "name": "stdout",
     "output_type": "stream",
     "text": [
      "results\n",
      "<HDF5 group \"/results\" (20 members)>\n"
     ]
    }
   ],
   "source": [
    "# Abrir archivo en modo lectura\n",
    "with h5py.File(SIM_PATH.resolve(), \"r\") as f:\n",
    "    # Listar los grupos principales\n",
    "    for key in f.keys():\n",
    "        print(key)\n",
    "    print(f[\"results\"])"
   ]
  },
  {
   "cell_type": "code",
   "execution_count": null,
   "id": "0af57af6",
   "metadata": {},
   "outputs": [],
   "source": [
    "def recorrer_grupo(grupo, nivel=0):\n",
    "    for key, item in grupo.items():\n",
    "        print(\"  \" * nivel + f\"- {key}: {type(item)}\")\n",
    "        if isinstance(item, h5py.Group):\n",
    "            recorrer_grupo(item, nivel + 1)\n",
    "\n",
    "\n",
    "with h5py.File(SIM_PATH.resolve(), \"r\") as f:\n",
    "    recorrer_grupo(f)"
   ]
  },
  {
   "cell_type": "code",
   "execution_count": null,
   "id": "77a3cea4",
   "metadata": {},
   "outputs": [],
   "source": [
    "with h5py.File(SIM_PATH.resolve(), \"r\") as f:\n",
    "    results = f[\"results\"]\n",
    "\n",
    "    # Ejemplo: leer biomasa acumulada\n",
    "    biomass_cum = results[\"biomass_cum\"][:]  # numpy array\n",
    "    print(\"Shape:\", biomass_cum.shape)\n",
    "    print(\"Dtype:\", biomass_cum.dtype)\n",
    "    print(\"Primeros valores:\", biomass_cum[:5])"
   ]
  },
  {
   "cell_type": "code",
   "execution_count": 20,
   "id": "aa70e3b8",
   "metadata": {},
   "outputs": [
    {
     "name": "stdout",
     "output_type": "stream",
     "text": [
      "au_layers       shape=(278, 358, 4, 181), dtype=float64\n",
      "biomass_cum     shape=(278, 358, 181), dtype=float64\n",
      "biomass_daily   shape=(278, 358, 181), dtype=float64\n",
      "ceh             shape=(278, 358, 181), dtype=float64\n",
      "ceh_pc          shape=(278, 358, 181), dtype=float64\n",
      "ceh_r           shape=(278, 358, 181), dtype=float64\n",
      "cover           shape=(278, 358, 181), dtype=float64\n",
      "dates           shape=(181,), dtype=int64\n",
      "eff_precip      shape=(278, 358, 181), dtype=float64\n",
      "et0             shape=(181,), dtype=float64\n",
      "eur_act         shape=(278, 358, 181), dtype=float64\n",
      "p_au            shape=(278, 358, 181), dtype=float64\n",
      "par             shape=(181,), dtype=float64\n",
      "precip          shape=(181,), dtype=float64\n",
      "root_depth      shape=(278, 358, 181), dtype=float64\n",
      "soil_evap       shape=(278, 358, 181), dtype=float64\n",
      "t_eur           shape=(278, 358, 181), dtype=float64\n",
      "temp            shape=(181,), dtype=float64\n",
      "transpiration   shape=(278, 358, 181), dtype=float64\n",
      "yield_tensor    shape=(278, 358, 181), dtype=float64\n"
     ]
    }
   ],
   "source": [
    "with h5py.File(SIM_PATH.resolve(), \"r\") as f:\n",
    "    for key, dset in f[\"results\"].items():\n",
    "        print(f\"{key:15} shape={dset.shape}, dtype={dset.dtype}\")"
   ]
  },
  {
   "cell_type": "markdown",
   "id": "8a5927a3",
   "metadata": {},
   "source": [
    "# Salida legacy"
   ]
  },
  {
   "cell_type": "code",
   "execution_count": 21,
   "id": "fb3a41e9",
   "metadata": {},
   "outputs": [
    {
     "name": "stdout",
     "output_type": "stream",
     "text": [
      "C:\\Users\\benjamin\\Desktop\\risk_and_yield\\data\\results\\testing_fixtures_maize\\maize_baseline.h5\n",
      "True\n"
     ]
    }
   ],
   "source": [
    "SIM_PATH_LEGACY = Path(\"../data/results/salida_modelo.h5\")\n",
    "print(SIM_PATH.resolve())  # Te muestra la ruta absoluta\n",
    "print(SIM_PATH.exists())  # True si existe, False si no"
   ]
  },
  {
   "cell_type": "code",
   "execution_count": null,
   "id": "a2f5bb69",
   "metadata": {},
   "outputs": [
    {
     "name": "stdout",
     "output_type": "stream",
     "text": [
      "EUR\n",
      "aguaUtilDisp1\n",
      "aguaUtilDisp2\n",
      "aguaUtilDisp3\n",
      "aguaUtilDisp4\n",
      "biomasaAcumulada\n",
      "biomasaDiaria\n",
      "cEstresHidrico\n",
      "cEstresHidricoRadiacion\n",
      "cEstrsTerminco\n",
      "ceh_pc\n",
      "diasDesdePrec\n",
      "drenaje\n",
      "evaporacion\n",
      "ici\n",
      "percolacion_capa_1\n",
      "percolacion_capa_2\n",
      "percolacion_capa_3\n",
      "porcAguaUtil\n",
      "porcCobertura\n",
      "precipitacion_efectiva\n",
      "profRaiz\n",
      "rendimiento\n",
      "transpiracion\n"
     ]
    },
    {
     "ename": "KeyError",
     "evalue": "\"Unable to synchronously open object (object 'results' doesn't exist)\"",
     "output_type": "error",
     "traceback": [
      "\u001b[1;31m---------------------------------------------------------------------------\u001b[0m",
      "\u001b[1;31mKeyError\u001b[0m                                  Traceback (most recent call last)",
      "Cell \u001b[1;32mIn[23], line 6\u001b[0m\n\u001b[0;32m      4\u001b[0m \u001b[38;5;28;01mfor\u001b[39;00m key \u001b[38;5;129;01min\u001b[39;00m f\u001b[38;5;241m.\u001b[39mkeys():\n\u001b[0;32m      5\u001b[0m     \u001b[38;5;28mprint\u001b[39m(key)\n\u001b[1;32m----> 6\u001b[0m \u001b[38;5;28mprint\u001b[39m(\u001b[43mf\u001b[49m\u001b[43m[\u001b[49m\u001b[38;5;124;43m\"\u001b[39;49m\u001b[38;5;124;43mresults\u001b[39;49m\u001b[38;5;124;43m\"\u001b[39;49m\u001b[43m]\u001b[49m)\n",
      "File \u001b[1;32mh5py/_objects.pyx:56\u001b[0m, in \u001b[0;36mh5py._objects.with_phil.wrapper\u001b[1;34m()\u001b[0m\n",
      "File \u001b[1;32mh5py/_objects.pyx:57\u001b[0m, in \u001b[0;36mh5py._objects.with_phil.wrapper\u001b[1;34m()\u001b[0m\n",
      "File \u001b[1;32mc:\\Users\\benjamin\\AppData\\Local\\Programs\\Python\\Python313\\Lib\\site-packages\\h5py\\_hl\\group.py:360\u001b[0m, in \u001b[0;36mGroup.__getitem__\u001b[1;34m(self, name)\u001b[0m\n\u001b[0;32m    358\u001b[0m         \u001b[38;5;28;01mraise\u001b[39;00m \u001b[38;5;167;01mValueError\u001b[39;00m(\u001b[38;5;124m\"\u001b[39m\u001b[38;5;124mInvalid HDF5 object reference\u001b[39m\u001b[38;5;124m\"\u001b[39m)\n\u001b[0;32m    359\u001b[0m \u001b[38;5;28;01melif\u001b[39;00m \u001b[38;5;28misinstance\u001b[39m(name, (\u001b[38;5;28mbytes\u001b[39m, \u001b[38;5;28mstr\u001b[39m)):\n\u001b[1;32m--> 360\u001b[0m     oid \u001b[38;5;241m=\u001b[39m \u001b[43mh5o\u001b[49m\u001b[38;5;241;43m.\u001b[39;49m\u001b[43mopen\u001b[49m\u001b[43m(\u001b[49m\u001b[38;5;28;43mself\u001b[39;49m\u001b[38;5;241;43m.\u001b[39;49m\u001b[43mid\u001b[49m\u001b[43m,\u001b[49m\u001b[43m \u001b[49m\u001b[38;5;28;43mself\u001b[39;49m\u001b[38;5;241;43m.\u001b[39;49m\u001b[43m_e\u001b[49m\u001b[43m(\u001b[49m\u001b[43mname\u001b[49m\u001b[43m)\u001b[49m\u001b[43m,\u001b[49m\u001b[43m \u001b[49m\u001b[43mlapl\u001b[49m\u001b[38;5;241;43m=\u001b[39;49m\u001b[38;5;28;43mself\u001b[39;49m\u001b[38;5;241;43m.\u001b[39;49m\u001b[43m_lapl\u001b[49m\u001b[43m)\u001b[49m\n\u001b[0;32m    361\u001b[0m \u001b[38;5;28;01melse\u001b[39;00m:\n\u001b[0;32m    362\u001b[0m     \u001b[38;5;28;01mraise\u001b[39;00m \u001b[38;5;167;01mTypeError\u001b[39;00m(\u001b[38;5;124m\"\u001b[39m\u001b[38;5;124mAccessing a group is done with bytes or str, \u001b[39m\u001b[38;5;124m\"\u001b[39m\n\u001b[0;32m    363\u001b[0m                     \u001b[38;5;124m\"\u001b[39m\u001b[38;5;124mnot \u001b[39m\u001b[38;5;132;01m{}\u001b[39;00m\u001b[38;5;124m\"\u001b[39m\u001b[38;5;241m.\u001b[39mformat(\u001b[38;5;28mtype\u001b[39m(name)))\n",
      "File \u001b[1;32mh5py/_objects.pyx:56\u001b[0m, in \u001b[0;36mh5py._objects.with_phil.wrapper\u001b[1;34m()\u001b[0m\n",
      "File \u001b[1;32mh5py/_objects.pyx:57\u001b[0m, in \u001b[0;36mh5py._objects.with_phil.wrapper\u001b[1;34m()\u001b[0m\n",
      "File \u001b[1;32mh5py/h5o.pyx:257\u001b[0m, in \u001b[0;36mh5py.h5o.open\u001b[1;34m()\u001b[0m\n",
      "\u001b[1;31mKeyError\u001b[0m: \"Unable to synchronously open object (object 'results' doesn't exist)\""
     ]
    }
   ],
   "source": [
    "# Abrir archivo en modo lectura\n",
    "with h5py.File(SIM_PATH_LEGACY.resolve(), \"r\") as f:\n",
    "    # Listar los grupos principales\n",
    "    for key in f.keys():\n",
    "        print(key)"
   ]
  }
 ],
 "metadata": {
  "kernelspec": {
   "display_name": "Python 3",
   "language": "python",
   "name": "python3"
  },
  "language_info": {
   "codemirror_mode": {
    "name": "ipython",
    "version": 3
   },
   "file_extension": ".py",
   "mimetype": "text/x-python",
   "name": "python",
   "nbconvert_exporter": "python",
   "pygments_lexer": "ipython3",
   "version": "3.13.0"
  }
 },
 "nbformat": 4,
 "nbformat_minor": 5
}
