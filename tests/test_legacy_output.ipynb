{
 "cells": [
  {
   "cell_type": "code",
   "execution_count": null,
   "id": "26c8fdb9",
   "metadata": {},
   "outputs": [],
   "source": [
    "from pathlib import Path\n",
    "import h5py"
   ]
  },
  {
   "cell_type": "markdown",
   "id": "4c1e664a",
   "metadata": {},
   "source": [
    "# Salida risknyield"
   ]
  },
  {
   "cell_type": "code",
   "execution_count": null,
   "id": "25e6fee4",
   "metadata": {},
   "outputs": [],
   "source": [
    "SIM_PATH = Path(\"../data/results/testing_fixtures_maize/maize_baseline.h5\")\n",
    "print(SIM_PATH.resolve())  # Te muestra la ruta absoluta\n",
    "print(SIM_PATH.exists())  # True si existe, False si no"
   ]
  },
  {
   "cell_type": "code",
   "execution_count": null,
   "id": "2bf4bb21",
   "metadata": {},
   "outputs": [],
   "source": [
    "# Abrir archivo en modo lectura\n",
    "with h5py.File(SIM_PATH.resolve(), \"r\") as f:\n",
    "    # Listar los grupos principales\n",
    "    for key in f.keys():\n",
    "        print(key)\n",
    "        print(f[key])"
   ]
  },
  {
   "cell_type": "code",
   "execution_count": null,
   "id": "0af57af6",
   "metadata": {},
   "outputs": [],
   "source": [
    "def recorrer_grupo(grupo, nivel=0):\n",
    "    for key, item in grupo.items():\n",
    "        print(\"  \" * nivel + f\"- {key}: {type(item)}\")\n",
    "        if isinstance(item, h5py.Group):\n",
    "            recorrer_grupo(item, nivel + 1)\n",
    "\n",
    "\n",
    "with h5py.File(SIM_PATH.resolve(), \"r\") as f:\n",
    "    recorrer_grupo(f)"
   ]
  },
  {
   "cell_type": "code",
   "execution_count": null,
   "id": "77a3cea4",
   "metadata": {},
   "outputs": [],
   "source": [
    "with h5py.File(SIM_PATH.resolve(), \"r\") as f:\n",
    "    results = f[\"results\"]\n",
    "    # Ejemplo: leer biomasa acumulada\n",
    "    biomass_cum = results[\"biomass_cum\"][:]  # numpy array\n",
    "    print(\"Shape:\", biomass_cum.shape)\n",
    "    print(\"Dtype:\", biomass_cum.dtype)\n",
    "    print(\"Primeros valores:\", biomass_cum[:5])"
   ]
  },
  {
   "cell_type": "code",
   "execution_count": null,
   "id": "aa70e3b8",
   "metadata": {},
   "outputs": [],
   "source": [
    "with h5py.File(SIM_PATH.resolve(), \"r\") as f:\n",
    "    for key, dset in f[\"results\"].items():\n",
    "        print(f\"{key:15} shape={dset.shape}, dtype={dset.dtype}\")"
   ]
  },
  {
   "cell_type": "markdown",
   "id": "8a5927a3",
   "metadata": {},
   "source": [
    "# Salida legacy"
   ]
  },
  {
   "cell_type": "code",
   "execution_count": null,
   "id": "fb3a41e9",
   "metadata": {},
   "outputs": [],
   "source": [
    "SIM_PATH_LEGACY = Path(\"../data/results/salida_modelo.h5\")\n",
    "print(SIM_PATH.resolve())  # Te muestra la ruta absoluta\n",
    "print(SIM_PATH.exists())  # True si existe, False si no"
   ]
  },
  {
   "cell_type": "code",
   "execution_count": null,
   "id": "a2f5bb69",
   "metadata": {},
   "outputs": [],
   "source": [
    "# Abrir archivo en modo lectura\n",
    "with h5py.File(SIM_PATH_LEGACY.resolve(), \"r\") as f:\n",
    "    # Listar los grupos principales\n",
    "    for key in f.keys():\n",
    "        print(key)\n",
    "        print(f[key])"
   ]
  },
  {
   "cell_type": "code",
   "execution_count": null,
   "id": "f375d761",
   "metadata": {},
   "outputs": [],
   "source": [
    "def recorrer_grupo(grupo, nivel=0):\n",
    "    for key, item in grupo.items():\n",
    "        print(\"  \" * nivel + f\"- {key}: {type(item)}\")\n",
    "        if isinstance(item, h5py.Group):\n",
    "            recorrer_grupo(item, nivel + 1)\n",
    "\n",
    "\n",
    "with h5py.File(SIM_PATH_LEGACY.resolve(), \"r\") as f:\n",
    "    recorrer_grupo(f)"
   ]
  },
  {
   "cell_type": "code",
   "execution_count": null,
   "id": "cc60d930",
   "metadata": {},
   "outputs": [],
   "source": [
    "with h5py.File(SIM_PATH_LEGACY.resolve(), \"r\") as f:\n",
    "    for key, dset in f.items():\n",
    "        print(f\"{key:15} shape={dset.shape}, dtype={dset.dtype}\")"
   ]
  }
 ],
 "metadata": {
  "kernelspec": {
   "display_name": "Python 3",
   "language": "python",
   "name": "python3"
  },
  "language_info": {
   "codemirror_mode": {
    "name": "ipython",
    "version": 3
   },
   "file_extension": ".py",
   "mimetype": "text/x-python",
   "name": "python",
   "nbconvert_exporter": "python",
   "pygments_lexer": "ipython3",
   "version": "3.13.0"
  }
 },
 "nbformat": 4,
 "nbformat_minor": 5
}
