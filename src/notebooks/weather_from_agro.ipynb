{
 "cells": [
  {
   "cell_type": "code",
   "execution_count": 2,
   "id": "5fe7f1ea",
   "metadata": {},
   "outputs": [
    {
     "name": "stdout",
     "output_type": "stream",
     "text": [
      "..\\data\\Wheather\n"
     ]
    }
   ],
   "source": [
    "import pandas as pd\n",
    "from pathlib import Path\n",
    "\n",
    "DATA_PATH = Path(\"../data\", \"Wheather\")\n",
    "\n",
    "print(DATA_PATH)"
   ]
  },
  {
   "cell_type": "markdown",
   "id": "e539718c",
   "metadata": {},
   "source": [
    "# 1. script_clima_historico.m"
   ]
  },
  {
   "cell_type": "code",
   "execution_count": null,
   "id": "742e8883",
   "metadata": {},
   "outputs": [],
   "source": [
    "df_meteo = pd.read_csv(DATA_PATH / \"ArroyitoDatos2022.csv\")\n",
    "df_meteo"
   ]
  },
  {
   "cell_type": "markdown",
   "id": "6b514bc9",
   "metadata": {},
   "source": [
    "# 2. script_radiacion_2.m"
   ]
  },
  {
   "cell_type": "code",
   "execution_count": null,
   "id": "dbc7701d",
   "metadata": {},
   "outputs": [],
   "source": [
    "# Este script genera \"Solar radiation 011020 to 310521.csv\"\n",
    "df_radiacion = pd.read_csv(DATA_PATH / \"clima octubre y noviembre 2021.csv\")\n",
    "df_radiacion"
   ]
  },
  {
   "cell_type": "markdown",
   "id": "6853ddd6",
   "metadata": {},
   "source": [
    "# script_radiacion_3.m"
   ]
  },
  {
   "cell_type": "code",
   "execution_count": null,
   "id": "34dd5ed6",
   "metadata": {},
   "outputs": [],
   "source": [
    "df_radiacion = pd.read_excel(DATA_PATH / \"PAR 301121 al 170122.xlsx\")\n",
    "df_radiacion"
   ]
  },
  {
   "cell_type": "markdown",
   "id": "08bfb430",
   "metadata": {},
   "source": [
    "# Supuestas salidas"
   ]
  },
  {
   "cell_type": "code",
   "execution_count": 17,
   "id": "a9fd6753",
   "metadata": {},
   "outputs": [
    {
     "data": {
      "text/plain": [
       "Index(['Unnamed: 0', 'TMIN(C)', 'TMED(C)', 'TMAX(C)', 'HR_MIN(%)', 'HR_MAX(%)',\n",
       "       'RAD(MJ/M2)', 'LLUVIA(mm)', 'T-TD(C)', 'GRANIZO', 'COND_HELADAS',\n",
       "       'DURACION_HELADAS(HS)', 'EVAP_TRANS(mm)', 'FECHA'],\n",
       "      dtype='object')"
      ]
     },
     "execution_count": 17,
     "metadata": {},
     "output_type": "execute_result"
    }
   ],
   "source": [
    "# Este script genera \"Solar radiation 011020 to 310521.csv\"\n",
    "df_weather = pd.read_csv(DATA_PATH / \"20220817_salidaPronoticoClimatico.csv\", sep=\";\")\n",
    "df_weather.columns"
   ]
  },
  {
   "cell_type": "code",
   "execution_count": 18,
   "id": "2298c8ff",
   "metadata": {},
   "outputs": [],
   "source": [
    "cols = ['FECHA',   'TMED(C)', 'RAD(MJ/M2)', 'LLUVIA(mm)', 'EVAP_TRANS(mm)']\n",
    "df_weather = df_weather[cols]\n",
    "df_weather['FECHA'] = pd.to_datetime(df_weather['FECHA'], format='%Y%m%d')\n",
    "df_weather.rename(columns={'TMED(C)': 'temp', 'RAD(MJ/M2)': 'par', 'LLUVIA(mm)': 'precip', 'EVAP_TRANS(mm)': 'et0'}, inplace=True)  "
   ]
  },
  {
   "cell_type": "code",
   "execution_count": 19,
   "id": "840613e4",
   "metadata": {},
   "outputs": [
    {
     "data": {
      "text/html": [
       "<div>\n",
       "<style scoped>\n",
       "    .dataframe tbody tr th:only-of-type {\n",
       "        vertical-align: middle;\n",
       "    }\n",
       "\n",
       "    .dataframe tbody tr th {\n",
       "        vertical-align: top;\n",
       "    }\n",
       "\n",
       "    .dataframe thead th {\n",
       "        text-align: right;\n",
       "    }\n",
       "</style>\n",
       "<table border=\"1\" class=\"dataframe\">\n",
       "  <thead>\n",
       "    <tr style=\"text-align: right;\">\n",
       "      <th></th>\n",
       "      <th>FECHA</th>\n",
       "      <th>temp</th>\n",
       "      <th>par</th>\n",
       "      <th>precip</th>\n",
       "      <th>et0</th>\n",
       "    </tr>\n",
       "  </thead>\n",
       "  <tbody>\n",
       "    <tr>\n",
       "      <th>0</th>\n",
       "      <td>2022-08-17</td>\n",
       "      <td>15.5</td>\n",
       "      <td>11.1</td>\n",
       "      <td>0.0</td>\n",
       "      <td>1.8</td>\n",
       "    </tr>\n",
       "    <tr>\n",
       "      <th>1</th>\n",
       "      <td>2022-08-18</td>\n",
       "      <td>9.8</td>\n",
       "      <td>12.5</td>\n",
       "      <td>0.0</td>\n",
       "      <td>2.6</td>\n",
       "    </tr>\n",
       "    <tr>\n",
       "      <th>2</th>\n",
       "      <td>2022-08-19</td>\n",
       "      <td>9.2</td>\n",
       "      <td>12.7</td>\n",
       "      <td>0.0</td>\n",
       "      <td>3.1</td>\n",
       "    </tr>\n",
       "    <tr>\n",
       "      <th>3</th>\n",
       "      <td>2022-08-20</td>\n",
       "      <td>11.3</td>\n",
       "      <td>12.1</td>\n",
       "      <td>0.0</td>\n",
       "      <td>2.6</td>\n",
       "    </tr>\n",
       "    <tr>\n",
       "      <th>4</th>\n",
       "      <td>2022-08-21</td>\n",
       "      <td>10.6</td>\n",
       "      <td>12.6</td>\n",
       "      <td>0.0</td>\n",
       "      <td>2.9</td>\n",
       "    </tr>\n",
       "    <tr>\n",
       "      <th>...</th>\n",
       "      <td>...</td>\n",
       "      <td>...</td>\n",
       "      <td>...</td>\n",
       "      <td>...</td>\n",
       "      <td>...</td>\n",
       "    </tr>\n",
       "    <tr>\n",
       "      <th>194</th>\n",
       "      <td>2023-02-27</td>\n",
       "      <td>23.7</td>\n",
       "      <td>9.0</td>\n",
       "      <td>3.6</td>\n",
       "      <td>1.6</td>\n",
       "    </tr>\n",
       "    <tr>\n",
       "      <th>195</th>\n",
       "      <td>2023-02-28</td>\n",
       "      <td>25.5</td>\n",
       "      <td>10.8</td>\n",
       "      <td>0.6</td>\n",
       "      <td>2.0</td>\n",
       "    </tr>\n",
       "    <tr>\n",
       "      <th>196</th>\n",
       "      <td>2023-03-01</td>\n",
       "      <td>27.4</td>\n",
       "      <td>13.7</td>\n",
       "      <td>1.0</td>\n",
       "      <td>2.7</td>\n",
       "    </tr>\n",
       "    <tr>\n",
       "      <th>197</th>\n",
       "      <td>2023-03-02</td>\n",
       "      <td>25.5</td>\n",
       "      <td>10.3</td>\n",
       "      <td>1.8</td>\n",
       "      <td>1.9</td>\n",
       "    </tr>\n",
       "    <tr>\n",
       "      <th>198</th>\n",
       "      <td>2023-03-03</td>\n",
       "      <td>25.3</td>\n",
       "      <td>11.1</td>\n",
       "      <td>3.3</td>\n",
       "      <td>2.2</td>\n",
       "    </tr>\n",
       "  </tbody>\n",
       "</table>\n",
       "<p>199 rows × 5 columns</p>\n",
       "</div>"
      ],
      "text/plain": [
       "         FECHA  temp   par  precip  et0\n",
       "0   2022-08-17  15.5  11.1     0.0  1.8\n",
       "1   2022-08-18   9.8  12.5     0.0  2.6\n",
       "2   2022-08-19   9.2  12.7     0.0  3.1\n",
       "3   2022-08-20  11.3  12.1     0.0  2.6\n",
       "4   2022-08-21  10.6  12.6     0.0  2.9\n",
       "..         ...   ...   ...     ...  ...\n",
       "194 2023-02-27  23.7   9.0     3.6  1.6\n",
       "195 2023-02-28  25.5  10.8     0.6  2.0\n",
       "196 2023-03-01  27.4  13.7     1.0  2.7\n",
       "197 2023-03-02  25.5  10.3     1.8  1.9\n",
       "198 2023-03-03  25.3  11.1     3.3  2.2\n",
       "\n",
       "[199 rows x 5 columns]"
      ]
     },
     "execution_count": 19,
     "metadata": {},
     "output_type": "execute_result"
    }
   ],
   "source": [
    "df_weather"
   ]
  }
 ],
 "metadata": {
  "kernelspec": {
   "display_name": "Python 3",
   "language": "python",
   "name": "python3"
  },
  "language_info": {
   "codemirror_mode": {
    "name": "ipython",
    "version": 3
   },
   "file_extension": ".py",
   "mimetype": "text/x-python",
   "name": "python",
   "nbconvert_exporter": "python",
   "pygments_lexer": "ipython3",
   "version": "3.13.5"
  }
 },
 "nbformat": 4,
 "nbformat_minor": 5
}
