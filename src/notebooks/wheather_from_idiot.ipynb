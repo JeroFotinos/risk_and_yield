{
 "cells": [
  {
   "cell_type": "code",
   "execution_count": null,
   "id": "5fe7f1ea",
   "metadata": {},
   "outputs": [],
   "source": [
    "import pandas as pd\n",
    "from pathlib import Path\n",
    "\n",
    "DATA_PATH = Path(\"../data\", \"Wheather\")\n",
    "\n",
    "print(DATA_PATH)"
   ]
  },
  {
   "cell_type": "markdown",
   "id": "e539718c",
   "metadata": {},
   "source": [
    "# 1. script_clima_historico.m"
   ]
  },
  {
   "cell_type": "code",
   "execution_count": null,
   "id": "742e8883",
   "metadata": {},
   "outputs": [],
   "source": [
    "df_meteo = pd.read_csv(DATA_PATH / \"ArroyitoDatos2022.csv\")\n",
    "df_meteo"
   ]
  },
  {
   "cell_type": "markdown",
   "id": "6b514bc9",
   "metadata": {},
   "source": [
    "# 2. script_radiacion_2.m"
   ]
  },
  {
   "cell_type": "code",
   "execution_count": null,
   "id": "dbc7701d",
   "metadata": {},
   "outputs": [],
   "source": [
    "# Este script genera \"Solar radiation 011020 to 310521.csv\"\n",
    "df_radiacion = pd.read_csv(DATA_PATH / \"clima octubre y noviembre 2021.csv\")\n",
    "df_radiacion"
   ]
  },
  {
   "cell_type": "markdown",
   "id": "6853ddd6",
   "metadata": {},
   "source": [
    "# script_radiacion_3.m"
   ]
  },
  {
   "cell_type": "code",
   "execution_count": null,
   "id": "34dd5ed6",
   "metadata": {},
   "outputs": [],
   "source": [
    "df_radiacion = pd.read_excel(DATA_PATH / \"PAR 301121 al 170122.xlsx\")\n",
    "df_radiacion"
   ]
  },
  {
   "cell_type": "markdown",
   "id": "08bfb430",
   "metadata": {},
   "source": [
    "# Supuestas salidas"
   ]
  },
  {
   "cell_type": "code",
   "execution_count": null,
   "id": "a9fd6753",
   "metadata": {},
   "outputs": [
    {
     "data": {
      "text/html": [
       "<div>\n",
       "<style scoped>\n",
       "    .dataframe tbody tr th:only-of-type {\n",
       "        vertical-align: middle;\n",
       "    }\n",
       "\n",
       "    .dataframe tbody tr th {\n",
       "        vertical-align: top;\n",
       "    }\n",
       "\n",
       "    .dataframe thead th {\n",
       "        text-align: right;\n",
       "    }\n",
       "</style>\n",
       "<table border=\"1\" class=\"dataframe\">\n",
       "  <thead>\n",
       "    <tr style=\"text-align: right;\">\n",
       "      <th></th>\n",
       "      <th>;TMIN(C);TMED(C);TMAX(C);RAD(MJ/M2);LLUVIA(mm);T-TD(C);GRANIZO;COND_HELADAS;FECHA</th>\n",
       "    </tr>\n",
       "  </thead>\n",
       "  <tbody>\n",
       "    <tr>\n",
       "      <th>0</th>\n",
       "      <td>0;15.5;19.5;23.9;6.3;0.0;6.8;0.0;0.0;20220424</td>\n",
       "    </tr>\n",
       "    <tr>\n",
       "      <th>1</th>\n",
       "      <td>1;20.5;22.7;25.9;10.4;1.0;3.3;1.0;0.0;20220425</td>\n",
       "    </tr>\n",
       "    <tr>\n",
       "      <th>2</th>\n",
       "      <td>2;20.6;24.6;30.1;9.3;0.1;4.1;1.0;0.0;20220426</td>\n",
       "    </tr>\n",
       "    <tr>\n",
       "      <th>3</th>\n",
       "      <td>3;18.1;21.1;27.1;9.3;1.3;6.6;1.0;0.0;20220427</td>\n",
       "    </tr>\n",
       "    <tr>\n",
       "      <th>4</th>\n",
       "      <td>4;15.3;17.2;20.5;4.5;1.2;7.9;0.0;0.0;20220428</td>\n",
       "    </tr>\n",
       "    <tr>\n",
       "      <th>...</th>\n",
       "      <td>...</td>\n",
       "    </tr>\n",
       "    <tr>\n",
       "      <th>194</th>\n",
       "      <td>194;11.8;15.9;23.4;10.7;1.5;6.2;0.0;0.0;20221102</td>\n",
       "    </tr>\n",
       "    <tr>\n",
       "      <th>195</th>\n",
       "      <td>195;13.5;17.5;22.2;9.4;3.8;5.7;0.0;0.0;20221103</td>\n",
       "    </tr>\n",
       "    <tr>\n",
       "      <th>196</th>\n",
       "      <td>196;15.1;19.6;25.1;14.6;1.5;7.9;0.0;0.0;20221104</td>\n",
       "    </tr>\n",
       "    <tr>\n",
       "      <th>197</th>\n",
       "      <td>197;15.6;21.3;27.4;16.5;0.6;8.7;0.0;0.0;20221105</td>\n",
       "    </tr>\n",
       "    <tr>\n",
       "      <th>198</th>\n",
       "      <td>198;16.6;22.7;29.0;15.9;0.0;8.7;0.0;0.0;20221106</td>\n",
       "    </tr>\n",
       "  </tbody>\n",
       "</table>\n",
       "<p>199 rows × 1 columns</p>\n",
       "</div>"
      ],
      "text/plain": [
       "    ;TMIN(C);TMED(C);TMAX(C);RAD(MJ/M2);LLUVIA(mm);T-TD(C);GRANIZO;COND_HELADAS;FECHA\n",
       "0        0;15.5;19.5;23.9;6.3;0.0;6.8;0.0;0.0;20220424                               \n",
       "1       1;20.5;22.7;25.9;10.4;1.0;3.3;1.0;0.0;20220425                               \n",
       "2        2;20.6;24.6;30.1;9.3;0.1;4.1;1.0;0.0;20220426                               \n",
       "3        3;18.1;21.1;27.1;9.3;1.3;6.6;1.0;0.0;20220427                               \n",
       "4        4;15.3;17.2;20.5;4.5;1.2;7.9;0.0;0.0;20220428                               \n",
       "..                                                 ...                               \n",
       "194   194;11.8;15.9;23.4;10.7;1.5;6.2;0.0;0.0;20221102                               \n",
       "195    195;13.5;17.5;22.2;9.4;3.8;5.7;0.0;0.0;20221103                               \n",
       "196   196;15.1;19.6;25.1;14.6;1.5;7.9;0.0;0.0;20221104                               \n",
       "197   197;15.6;21.3;27.4;16.5;0.6;8.7;0.0;0.0;20221105                               \n",
       "198   198;16.6;22.7;29.0;15.9;0.0;8.7;0.0;0.0;20221106                               \n",
       "\n",
       "[199 rows x 1 columns]"
      ]
     },
     "execution_count": 17,
     "metadata": {},
     "output_type": "execute_result"
    }
   ],
   "source": [
    "# Este script genera \"Solar radiation 011020 to 310521.csv\"\n",
    "df_wheather = pd.read_csv(DATA_PATH / \"salidaPronoticoClimatico_2.csv\", sep=\";\")\n",
    "df_radiacion"
   ]
  }
 ],
 "metadata": {
  "kernelspec": {
   "display_name": "Python 3",
   "language": "python",
   "name": "python3"
  },
  "language_info": {
   "codemirror_mode": {
    "name": "ipython",
    "version": 3
   },
   "file_extension": ".py",
   "mimetype": "text/x-python",
   "name": "python",
   "nbconvert_exporter": "python",
   "pygments_lexer": "ipython3",
   "version": "3.13.0"
  }
 },
 "nbformat": 4,
 "nbformat_minor": 5
}
