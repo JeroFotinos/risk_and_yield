{
 "cells": [
  {
   "cell_type": "markdown",
   "id": "c81267f7",
   "metadata": {},
   "source": [
    "# Imports"
   ]
  },
  {
   "cell_type": "code",
   "execution_count": null,
   "id": "e5cb2566",
   "metadata": {},
   "outputs": [],
   "source": [
    "from pathlib import Path\n",
    "from pprint import pprint\n",
    "from typing import Any, Dict, Tuple\n",
    "from datetime import datetime\n",
    "\n",
    "import numpy as np\n",
    "import pandas as pd\n",
    "from scipy.io import loadmat\n",
    "\n",
    "from main import Weather\n",
    "from main import Soil\n",
    "\n",
    "Array = np.ndarray\n",
    "\n",
    "\n",
    "DATA_PATH = Path(\"data\")\n",
    "WEATHER_CSV_PATH = Path(DATA_PATH, \"Weather\", \"weather.csv\")\n",
    "SOIL_MAT_PATH = Path(DATA_PATH, \"Soil\")"
   ]
  },
  {
   "cell_type": "markdown",
   "id": "f747e558",
   "metadata": {},
   "source": [
    "# Utility helpers"
   ]
  },
  {
   "cell_type": "code",
   "execution_count": null,
   "id": "23171c1e",
   "metadata": {},
   "outputs": [],
   "source": [
    "# -----------------------------\n",
    "# Utility helpers\n",
    "# -----------------------------\n",
    "def load_matlab_file_as_dict(filename: str, verbose=False) -> Dict[str, Any]:\n",
    "    loaded_dict: Dict[str, Any] = loadmat(Path(SOIL_MAT_PATH, filename))\n",
    "    if verbose:\n",
    "        pprint(loaded_dict.keys())\n",
    "    return loaded_dict\n",
    "\n",
    "\n",
    "def load_weather(path: Path, start_date: datetime, end_date: datetime) -> pd.DataFrame:\n",
    "    df = pd.read_csv(path)\n",
    "    df[\"FECHA\"] = pd.to_datetime(df[\"FECHA\"], format=\"%Y-%m-%d\")\n",
    "    df.rename(\n",
    "        columns={\n",
    "            \"FECHA\": \"scene_date\",\n",
    "            \"TMPMED\": \"temp\",\n",
    "            \"RAD\": \"par\",\n",
    "            \"PREC\": \"precip\",\n",
    "            \"ET0\": \"et0\",\n",
    "        },\n",
    "        inplace=True,\n",
    "    )\n",
    "    cols = [\"scene_date\", \"temp\", \"par\", \"precip\", \"et0\"]\n",
    "    df = df.loc[\n",
    "        (df[\"scene_date\"] >= start_date) & (df[\"scene_date\"] <= end_date),\n",
    "        cols,\n",
    "    ]\n",
    "    return df\n",
    "\n",
    "\n",
    "# -----------------------------\n",
    "# Loaders\n",
    "# -----------------------------\n",
    "def load_soil_from_data() -> Tuple[Array, Array, Array, Array, Array, Array]:\n",
    "    mask_maize: Array = load_matlab_file_as_dict(\"mat_maiz_2021_lowres.mat\")[\n",
    "        \"clase_maiz_2021_lowres\"\n",
    "    ]\n",
    "    lat: Array = load_matlab_file_as_dict(\"mat_maiz_2021_lat_lowres.mat\")[\"lat_lowres\"]\n",
    "    lon: Array = load_matlab_file_as_dict(\"mat_maiz_2021_lon_lowres.mat\")[\"lon_lowres\"]\n",
    "    dds0: Array = load_matlab_file_as_dict(\"mat_dds_maiz_est_lowres.mat\")[\"dds_est\"]\n",
    "    water0: Array = (\n",
    "        load_matlab_file_as_dict(\"mat_aguadisp_saocom_maiz_2021-2022_2.mat\")[\n",
    "            \"a_disp_campo\"\n",
    "        ]\n",
    "        / 100.0\n",
    "    )  # Si water0 es entre (0,1) hay que dividir. Pregungar a jero. Porcentaje de agua util.\n",
    "    mask_soy = np.zeros_like(mask_maize)\n",
    "    return (mask_maize, mask_soy, lat, lon, dds0, water0)\n",
    "\n",
    "\n",
    "def load_weather_from_data(\n",
    "    data_path: Path, start_time: datetime, end_time: datetime\n",
    ") -> Tuple[\n",
    "    Array,\n",
    "    Array,\n",
    "    Array,\n",
    "    Array,\n",
    "]:\n",
    "    df_weather: pd.DataFrame = load_weather(data_path, start_time, end_time)\n",
    "    temp, par, precip, et0 = (\n",
    "        df_weather[\"temp\"].to_numpy(),\n",
    "        df_weather[\"par\"].to_numpy(),\n",
    "        df_weather[\"precip\"].to_numpy(),\n",
    "        df_weather[\"et0\"].to_numpy(),\n",
    "    )\n",
    "    return temp, par, precip, et0"
   ]
  },
  {
   "cell_type": "markdown",
   "id": "aa3b9790",
   "metadata": {},
   "source": [
    "# Load weather DataFrame"
   ]
  },
  {
   "cell_type": "code",
   "execution_count": null,
   "id": "e79600d2",
   "metadata": {},
   "outputs": [],
   "source": [
    "start_date = datetime(2021, 12, 4)\n",
    "end_date = datetime(2022, 6, 2)\n",
    "df_weather = load_weather(WEATHER_CSV_PATH, start_date, end_date)"
   ]
  },
  {
   "cell_type": "code",
   "execution_count": null,
   "id": "f1874205",
   "metadata": {},
   "outputs": [],
   "source": [
    "df_weather"
   ]
  },
  {
   "cell_type": "markdown",
   "id": "3ae10019",
   "metadata": {},
   "source": [
    "# Run simulation"
   ]
  },
  {
   "cell_type": "markdown",
   "id": "22b9de16",
   "metadata": {},
   "source": [
    "## Set parameters"
   ]
  },
  {
   "cell_type": "code",
   "execution_count": null,
   "id": "4aa566d4",
   "metadata": {},
   "outputs": [],
   "source": [
    "# -----------------------------\n",
    "# Set parameters from data files\n",
    "# -----------------------------\n",
    "start_date = datetime(2021, 12, 4)\n",
    "end_date = datetime(2022, 6, 1)\n",
    "\n",
    "mask_maize, mask_soy, lat, lon, dds0, water0 = load_soil_from_data()\n",
    "temp, par, precip, et0 = load_weather_from_data(WEATHER_CSV_PATH, start_date, end_date)\n",
    "\n",
    "# -----------------------------\n",
    "# Initialize Soil model\n",
    "# -----------------------------\n",
    "weather = Weather(\n",
    "    temp=temp,\n",
    "    par=par,\n",
    "    precip=precip,\n",
    "    et0=et0,\n",
    ")\n",
    "\n",
    "soil = Soil(\n",
    "    mask_maize=mask_maize,\n",
    "    mask_soy=mask_soy,\n",
    "    lat=lat,\n",
    "    lon=lon,\n",
    "    water0=water0,\n",
    "    dds0=dds0,\n",
    ")"
   ]
  },
  {
   "cell_type": "markdown",
   "id": "02e5bee8",
   "metadata": {},
   "source": [
    "## Evolve system"
   ]
  },
  {
   "cell_type": "code",
   "execution_count": null,
   "id": "3bb5b9d8",
   "metadata": {},
   "outputs": [],
   "source": [
    "target_crop = \"maize\"\n",
    "results = soil.evolve(target_crop, weather)"
   ]
  },
  {
   "cell_type": "markdown",
   "id": "41d38c66",
   "metadata": {},
   "source": [
    "## Plot results"
   ]
  },
  {
   "cell_type": "code",
   "execution_count": null,
   "id": "33b1361c",
   "metadata": {},
   "outputs": [],
   "source": [
    "import matplotlib.pyplot as plt\n",
    "\n",
    "result_yield = results.yield_\n",
    "tile_yield = [result_yield[::, day].sum() for day in results.dates]\n",
    "plt.plot(results.dates, tile_yield)"
   ]
  },
  {
   "cell_type": "code",
   "execution_count": null,
   "id": "1cd51bcf",
   "metadata": {},
   "outputs": [],
   "source": [
    "biomass_daily = [results.biomass_daily[::, day].sum() for day in results.dates]\n",
    "plt.plot(results.dates, biomass_daily)"
   ]
  },
  {
   "cell_type": "code",
   "execution_count": null,
   "id": "873baac1",
   "metadata": {},
   "outputs": [],
   "source": [
    "biomass_cum = [results.biomass_cum[::, day].sum() for day in results.dates]\n",
    "plt.plot(results.dates, biomass_cum)"
   ]
  },
  {
   "cell_type": "code",
   "execution_count": null,
   "id": "2ab1b8ab",
   "metadata": {},
   "outputs": [],
   "source": [
    "import numpy as np\n",
    "import matplotlib.pyplot as plt\n",
    "import matplotlib.animation as animation\n",
    "from matplotlib import rc\n",
    "from IPython.display import HTML\n",
    "\n",
    "rc(\"animation\", html=\"jshtml\")  # clave para que se renderice en la celda\n",
    "\n",
    "data = results.biomass_daily  # (nx, ny, T)\n",
    "print(data.shape)\n",
    "T = data.shape[-1]\n",
    "\n",
    "vmin = np.nanmin(data)\n",
    "vmax = np.nanmax(data)\n",
    "print(vmin, vmax)\n",
    "\n",
    "fig, ax = plt.subplots(figsize=(6, 5))\n",
    "im = ax.imshow(data[:, :, 0], origin=\"lower\", vmin=vmin, vmax=vmax, cmap=\"YlGn\")\n",
    "cbar = plt.colorbar(im, ax=ax, label=\"Yield\")\n",
    "ax.set_title(\"Yield evolution - Maize (t=0)\")\n",
    "\n",
    "\n",
    "def update(t):\n",
    "    im.set_array(data[:, :, t])\n",
    "    ax.set_title(f\"Evolution - Maize (t={t})\")\n",
    "    return [im]\n",
    "\n",
    "\n",
    "ani = animation.FuncAnimation(fig, update, frames=T, interval=180, blit=True)\n",
    "\n",
    "HTML(ani.to_jshtml())"
   ]
  },
  {
   "cell_type": "code",
   "execution_count": null,
   "id": "d79e006f",
   "metadata": {},
   "outputs": [],
   "source": [
    "soil.mask_maize[1, 0]\n",
    "found = False\n",
    "for i in range(soil.mask_maize.shape[0]):\n",
    "    for j in range(soil.mask_maize.shape[1]):\n",
    "        if soil.mask_maize[i, j]:\n",
    "            plt.plot(results.dates, results.yield_[i, j, :], label=f\"{i},{j}\")\n",
    "            plt.legend()\n",
    "            found = True\n",
    "            break\n",
    "    if found:\n",
    "        break"
   ]
  }
 ],
 "metadata": {
  "kernelspec": {
   "display_name": "Python 3",
   "language": "python",
   "name": "python3"
  },
  "language_info": {
   "codemirror_mode": {
    "name": "ipython",
    "version": 3
   },
   "file_extension": ".py",
   "mimetype": "text/x-python",
   "name": "python",
   "nbconvert_exporter": "python",
   "pygments_lexer": "ipython3",
   "version": "3.13.0"
  }
 },
 "nbformat": 4,
 "nbformat_minor": 5
}
