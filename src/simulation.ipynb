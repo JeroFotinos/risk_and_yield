{
 "cells": [
  {
   "cell_type": "code",
   "execution_count": null,
   "id": "e5cb2566",
   "metadata": {},
   "outputs": [],
   "source": [
    "from pathlib import Path\n",
    "from pprint import pprint\n",
    "from typing import Any, Dict\n",
    "\n",
    "import numpy as np\n",
    "import pandas as pd\n",
    "from scipy.io import loadmat\n",
    "\n",
    "from main import Weather\n",
    "from main import Soil\n",
    "\n",
    "Array = np.ndarray\n",
    "\n",
    "DATA_PATH = Path(\"data\")"
   ]
  },
  {
   "cell_type": "code",
   "execution_count": null,
   "id": "e13a33ea",
   "metadata": {},
   "outputs": [],
   "source": [
    "# -----------------------------\n",
    "# Utility helpers\n",
    "# -----------------------------\n",
    "def load_matlab_file_as_dict(filename: str, verbose=False) -> Dict[str, Any]:\n",
    "    loaded_dict: Dict[str, Any] = loadmat(DATA_PATH / \"Soil\" / filename)\n",
    "    if verbose:\n",
    "        pprint(loaded_dict.keys())\n",
    "    return loaded_dict\n",
    "\n",
    "\n",
    "def load_wheather(path):\n",
    "    df = pd.read_csv(path)\n",
    "    print(df.columns)\n",
    "    df[\"FECHA\"] = pd.to_datetime(df[\"FECHA\"])\n",
    "    df.rename(\n",
    "        columns={\n",
    "            f\"TMPMED\": \"temp\",\n",
    "            \"RAD\": \"par\",\n",
    "            \"PREC\": \"precip\",\n",
    "            \"ET0\": \"et0\",\n",
    "        },\n",
    "        inplace=True,\n",
    "    )\n",
    "    return df"
   ]
  },
  {
   "cell_type": "code",
   "execution_count": null,
   "id": "acbb8d8a",
   "metadata": {},
   "outputs": [],
   "source": [
    "# -----------------------------\n",
    "# Set parameters from data files\n",
    "# -----------------------------\n",
    "mask_maize: Array = load_matlab_file_as_dict(\"mat_maiz_2021_lowres.mat\")[\n",
    "    \"clase_maiz_2021_lowres\"\n",
    "]\n",
    "lat: Array = load_matlab_file_as_dict(\"mat_maiz_2021_lat_lowres.mat\")[\"lat_lowres\"]\n",
    "lon: Array = load_matlab_file_as_dict(\"mat_maiz_2021_lon_lowres.mat\")[\"lon_lowres\"]\n",
    "dds0: Array = load_matlab_file_as_dict(\"mat_dds_maiz_est_lowres.mat\")[\"dds_est\"]\n",
    "water0: Array = (\n",
    "    load_matlab_file_as_dict(\"mat_aguadisp_saocom_maiz_2021-2022_2.mat\")[\"a_disp_campo\"]\n",
    "    / 100.0\n",
    ")  # Si water0 es entre (0,1) hay que dividir. Pregungar a jero. Porcentaje de agua util."
   ]
  },
  {
   "cell_type": "code",
   "execution_count": null,
   "id": "88d08a32",
   "metadata": {},
   "outputs": [],
   "source": [
    "weather_filename = \"wheater_output_gabriel.csv\"\n",
    "df_weather: pd.DataFrame = load_wheather(DATA_PATH / \"Weather\" / weather_filename)"
   ]
  },
  {
   "cell_type": "code",
   "execution_count": null,
   "id": "6d2c2959",
   "metadata": {},
   "outputs": [],
   "source": [
    "df_weather"
   ]
  },
  {
   "cell_type": "code",
   "execution_count": null,
   "id": "72d093ea",
   "metadata": {},
   "outputs": [],
   "source": [
    "cols = [\"FECHA\", \"temp\", \"par\", \"precip\", \"et0\"]\n",
    "df_weather[cols]"
   ]
  },
  {
   "cell_type": "code",
   "execution_count": null,
   "id": "8815b309",
   "metadata": {},
   "outputs": [],
   "source": [
    "from datetime import datetime\n",
    "\n",
    "# rango de fechas\n",
    "start = datetime(2021, 12, 4)\n",
    "end = datetime(2022, 6, 2)\n",
    "\n",
    "cols = [\"FECHA\", \"temp\", \"par\", \"precip\", \"et0\"]\n",
    "\n",
    "df_weather = df_weather.loc[\n",
    "    (df_weather[\"FECHA\"] >= start) & (df_weather[\"FECHA\"] <= end),\n",
    "    cols,\n",
    "]\n",
    "\n",
    "df_weather[\"temp\"].to_numpy()"
   ]
  },
  {
   "cell_type": "code",
   "execution_count": null,
   "id": "fa5327dc",
   "metadata": {},
   "outputs": [],
   "source": [
    "# -----------------------------\n",
    "# Initialize Soil model\n",
    "# -----------------------------\n",
    "weather = Weather(\n",
    "    temp=df_weather[\"temp\"].to_numpy(),\n",
    "    par=df_weather[\"par\"].to_numpy(),\n",
    "    precip=df_weather[\"precip\"].to_numpy(),\n",
    "    et0=df_weather[\"et0\"].to_numpy(),\n",
    ")\n",
    "\n",
    "\n",
    "soil = Soil(\n",
    "    mask_maize=mask_maize,\n",
    "    mask_soy=np.zeros_like(mask_maize),\n",
    "    lat=lat,\n",
    "    lon=lon,\n",
    "    water0=water0,\n",
    "    dds0=dds0,\n",
    ")"
   ]
  },
  {
   "cell_type": "code",
   "execution_count": null,
   "id": "d8ed96c6",
   "metadata": {},
   "outputs": [],
   "source": [
    "# -----------------------------\n",
    "# Run simulation\n",
    "# -----------------------------\n",
    "target_crop = \"maize\"\n",
    "results = soil.evolve(target_crop, weather)"
   ]
  },
  {
   "cell_type": "code",
   "execution_count": null,
   "id": "6118aaca",
   "metadata": {},
   "outputs": [],
   "source": [
    "import matplotlib.pyplot as plt\n",
    "\n",
    "# Último valor en el tiempo (t = T-1)\n",
    "\n",
    "for i in range(120):\n",
    "    final_yield_maize = results.yield_[:, :, 0]\n",
    "\n",
    "    # Gráfico de maíz\n",
    "    plt.figure(figsize=(8, 6))\n",
    "    plt.imshow(final_yield_maize, cmap=\"YlGn\", origin=\"lower\")\n",
    "    plt.colorbar(label=\"Yield (maize)\")\n",
    "    plt.title(f\"Final yield - Maize- {i}\")\n",
    "    plt.show()"
   ]
  },
  {
   "cell_type": "code",
   "execution_count": null,
   "id": "d5613246",
   "metadata": {},
   "outputs": [],
   "source": [
    "import numpy as np\n",
    "import matplotlib.pyplot as plt\n",
    "import matplotlib.animation as animation\n",
    "from matplotlib import rc\n",
    "from IPython.display import HTML\n",
    "\n",
    "rc(\"animation\", html=\"jshtml\")  # clave para que se renderice en la celda\n",
    "\n",
    "data = results.yield_  # (nx, ny, T)\n",
    "T = data.shape[-1]\n",
    "\n",
    "vmin = np.nanmin(data)\n",
    "vmax = np.nanmax(data)\n",
    "\n",
    "fig, ax = plt.subplots(figsize=(6, 5))\n",
    "im = ax.imshow(data[:, :, 0], origin=\"lower\", vmin=vmin, vmax=vmax, cmap=\"YlGn\")\n",
    "cbar = plt.colorbar(im, ax=ax, label=\"Yield\")\n",
    "ax.set_title(\"Yield evolution - Maize (t=0)\")\n",
    "\n",
    "\n",
    "def update(t):\n",
    "    im.set_array(data[:, :, t])\n",
    "    ax.set_title(f\"Yield evolution - Maize (t={t})\")\n",
    "    return [im]\n",
    "\n",
    "\n",
    "ani = animation.FuncAnimation(fig, update, frames=T, interval=200, blit=True)\n",
    "\n",
    "HTML(ani.to_jshtml())"
   ]
  }
 ],
 "metadata": {
  "kernelspec": {
   "display_name": "Python 3",
   "language": "python",
   "name": "python3"
  },
  "language_info": {
   "codemirror_mode": {
    "name": "ipython",
    "version": 3
   },
   "file_extension": ".py",
   "mimetype": "text/x-python",
   "name": "python",
   "nbconvert_exporter": "python",
   "pygments_lexer": "ipython3",
   "version": "3.13.0"
  }
 },
 "nbformat": 4,
 "nbformat_minor": 5
}
