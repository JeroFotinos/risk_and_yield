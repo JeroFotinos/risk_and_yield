{
 "cells": [
  {
   "cell_type": "markdown",
   "id": "8ead5f6e",
   "metadata": {},
   "source": [
    "# Imports"
   ]
  },
  {
   "cell_type": "code",
   "execution_count": null,
   "id": "ea98d03d",
   "metadata": {},
   "outputs": [],
   "source": [
    "import os\n",
    "import pandas as pd\n",
    "from pathlib import Path\n",
    "from pprint import pprint\n",
    "from scipy.io import loadmat\n",
    "from typing import Dict, Tuple\n",
    "from typing import Any\n",
    "\n",
    "from config import DATA_PATH\n",
    "\n",
    "\n",
    "def load_matlab_file_as_dict(filename: str) -> Dict[str, Any]:\n",
    "    loaded_dict: Dict[str, Any] = loadmat(os.path.join(DATA_PATH, filename))\n",
    "    # pprint(loaded_dict.keys())\n",
    "    return loaded_dict\n",
    "\n",
    "\n",
    "from dataclasses import dataclass\n",
    "\n",
    "\n",
    "@dataclass\n",
    "class Campo:\n",
    "    name: str\n",
    "    cultivated: int\n",
    "    grid: Tuple[int, int]\n",
    "    lat: float\n",
    "    lon: float\n",
    "    init_water: float\n",
    "\n",
    "\n",
    "import re\n",
    "\n",
    "\n",
    "def dms_to_dd(dms_str):\n",
    "    \"\"\"\n",
    "    Convierte un string en formato DMS (ej: '30°53\\'23,37\"') a decimal.\n",
    "    \"\"\"\n",
    "    # Reemplazar coma por punto (por decimales en español)\n",
    "    dms_str = dms_str.replace(\",\", \".\")\n",
    "\n",
    "    # Extraer números con regex\n",
    "    match = re.match(r\"(\\d+)°(\\d+)'([\\d\\.]+)\\\"\", dms_str)\n",
    "    if not match:\n",
    "        raise ValueError(f\"Formato no reconocido: {dms_str}\")\n",
    "\n",
    "    degrees, minutes, seconds = match.groups()\n",
    "    degrees = float(degrees)\n",
    "    minutes = float(minutes)\n",
    "    seconds = float(seconds)\n",
    "\n",
    "    return degrees + minutes / 60 + seconds / 3600"
   ]
  },
  {
   "cell_type": "markdown",
   "id": "586b4b65",
   "metadata": {},
   "source": [
    "# Carga de archivos para simulación"
   ]
  },
  {
   "cell_type": "markdown",
   "id": "66590c97",
   "metadata": {},
   "source": [
    "### Matrices de latitudes, longitudes y máscaras de un campo $C_{ij}$"
   ]
  },
  {
   "cell_type": "code",
   "execution_count": null,
   "id": "b70e483f",
   "metadata": {},
   "outputs": [],
   "source": [
    "cultivo = load_matlab_file_as_dict(\"mat_maiz_2021_lowres.mat\")[\n",
    "    \"clase_maiz_2021_lowres\"\n",
    "]  # máscara\n",
    "\n",
    "\n",
    "cultivos_lat = load_matlab_file_as_dict(\"mat_maiz_2021_lat_lowres.mat\")[\"lat_lowres\"]\n",
    "\n",
    "\n",
    "cultivos_lon = load_matlab_file_as_dict(\"mat_maiz_2021_lon_lowres.mat\")[\"lon_lowres\"]\n",
    "\n",
    "\n",
    "N_lat = cultivo.shape[0]\n",
    "N_lon = cultivo.shape[1]\n",
    "\n",
    "print(f\"Latitudes lowres: {cultivos_lat.shape}\")\n",
    "print(cultivos_lat[0:2, 0:2])\n",
    "print(f\"\\nLongitudes lowres: {cultivos_lon.shape}\")\n",
    "print(cultivos_lon[0:2, 0:2])\n",
    "print(f\"\\nMascara: {cultivo.shape}\")\n",
    "print(cultivo[0:3, 0:3])"
   ]
  },
  {
   "cell_type": "markdown",
   "id": "95c99444",
   "metadata": {},
   "source": [
    "### Matriz de porcentaje de agua inicial en los campos"
   ]
  },
  {
   "cell_type": "code",
   "execution_count": null,
   "id": "69ddf170",
   "metadata": {},
   "outputs": [],
   "source": [
    "porc_agua_inicial = (\n",
    "    load_matlab_file_as_dict(\"mat_aguadisp_saocom_maiz_2021-2022_2.mat\")[\"a_disp_campo\"]\n",
    "    / 100\n",
    ")\n",
    "print(f\"Porcentaje de agua inical: {porc_agua_inicial.shape}\")\n",
    "print(porc_agua_inicial[:2, :2])"
   ]
  },
  {
   "cell_type": "markdown",
   "id": "a9933f96",
   "metadata": {},
   "source": [
    "### Matriz de días desde la siembra (DDS)"
   ]
  },
  {
   "cell_type": "code",
   "execution_count": null,
   "id": "782b9412",
   "metadata": {},
   "outputs": [],
   "source": [
    "dds_est = load_matlab_file_as_dict(\"mat_dds_maiz_est_lowres.mat\")[\"dds_est\"]\n",
    "print(f\"Dias desde la siembra estimacion: {dds_est.shape}\")\n",
    "print(dds_est[:2, :2])"
   ]
  },
  {
   "cell_type": "markdown",
   "id": "0c8889d1",
   "metadata": {},
   "source": [
    "### Matrices de agua observada y fechas de observación"
   ]
  },
  {
   "cell_type": "code",
   "execution_count": null,
   "id": "813957dc",
   "metadata": {},
   "outputs": [],
   "source": [
    "agua_obs = load_matlab_file_as_dict(\"agua_obs_m.mat\")[\"agua_obs\"]\n",
    "print(f\"agua observada: {agua_obs.shape}\")\n",
    "print(agua_obs[:2, :2])"
   ]
  },
  {
   "cell_type": "code",
   "execution_count": null,
   "id": "d2e59722",
   "metadata": {},
   "outputs": [],
   "source": [
    "# Harcodeadeadas por gonazalo.\n",
    "fechas_aguas_m = [\n",
    "    \"2021-11-19\",\n",
    "    \"2021-11-29\",\n",
    "    \"2021-12-09\",\n",
    "    \"2021-12-19\",\n",
    "    \"2021-12-29\",\n",
    "    \"2022-01-08\",\n",
    "    \"2022-01-18\",\n",
    "    \"2022-01-28\",\n",
    "    \"2022-02-07\",\n",
    "    \"2022-02-17\",\n",
    "    \"2022-03-10\",\n",
    "    \"2022-03-20\",\n",
    "    \"2022-03-30\",\n",
    "    \"2022-04-10\",\n",
    "    \"2022-04-20\",\n",
    "    \"2022-05-01\",\n",
    "    \"2022-05-14\",\n",
    "]\n",
    "\n",
    "print(fechas_aguas_m.__len__())"
   ]
  },
  {
   "cell_type": "markdown",
   "id": "e61685c7",
   "metadata": {},
   "source": [
    "### Ejemplo de tarjeta de campo"
   ]
  },
  {
   "cell_type": "code",
   "execution_count": null,
   "id": "0d8199ab",
   "metadata": {},
   "outputs": [],
   "source": [
    "i, j = 2, 1\n",
    "campo_ij = Campo(\n",
    "    name=\"Ejemplo\",\n",
    "    lat=cultivos_lat[i, j],\n",
    "    lon=cultivos_lat[i, j],\n",
    "    grid=(i, j),\n",
    "    cultivated=cultivo[i, j],\n",
    "    init_water=porc_agua_inicial[i, j],\n",
    ")\n",
    "print(campo_ij)"
   ]
  },
  {
   "cell_type": "markdown",
   "id": "3b9fe18c",
   "metadata": {},
   "source": [
    "### Cargar coordenadas de maiz 2021"
   ]
  },
  {
   "cell_type": "code",
   "execution_count": null,
   "id": "86607ac2",
   "metadata": {},
   "outputs": [],
   "source": [
    "# --- Config ---\n",
    "XLSX_PATH = Path(DATA_PATH) / \"fechasiembra_2020.xlsx\"  # ajusta si hace falta\n",
    "SHEET_NAME = \"Maiz\"\n",
    "df_coordenadas_maiz = pd.read_excel(XLSX_PATH, sheet_name=SHEET_NAME)\n",
    "df_coordenadas_maiz"
   ]
  },
  {
   "cell_type": "code",
   "execution_count": null,
   "id": "9b00f875",
   "metadata": {},
   "outputs": [],
   "source": [
    "df_coordenadas_maiz[\"lat_dd\"] = -1 * df_coordenadas_maiz[\"lat\"].apply(dms_to_dd)\n",
    "df_coordenadas_maiz[\"long_dd\"] = -1 * df_coordenadas_maiz[\"long\"].apply(dms_to_dd)"
   ]
  },
  {
   "cell_type": "code",
   "execution_count": null,
   "id": "24e01d2b",
   "metadata": {},
   "outputs": [],
   "source": [
    "mat_coord_m = df_coordenadas_maiz[[\"lat_dd\", \"long_dd\"]]\n",
    "lats_lons = mat_coord_m"
   ]
  },
  {
   "cell_type": "code",
   "execution_count": null,
   "id": "838f96d5",
   "metadata": {},
   "outputs": [],
   "source": [
    "mat_fs_m = df_coordenadas_maiz[\"FS\"]\n",
    "mat_fs = mat_fs_m"
   ]
  }
 ],
 "metadata": {
  "kernelspec": {
   "display_name": "Python 3",
   "language": "python",
   "name": "python3"
  },
  "language_info": {
   "codemirror_mode": {
    "name": "ipython",
    "version": 3
   },
   "file_extension": ".py",
   "mimetype": "text/x-python",
   "name": "python",
   "nbconvert_exporter": "python",
   "pygments_lexer": "ipython3",
   "version": "3.13.5"
  }
 },
 "nbformat": 4,
 "nbformat_minor": 5
}
