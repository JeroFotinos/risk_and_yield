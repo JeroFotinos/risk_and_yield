{
 "cells": [
  {
   "cell_type": "code",
   "execution_count": null,
   "id": "26c8fdb9",
   "metadata": {},
   "outputs": [],
   "source": [
    "from pathlib import Path\n",
    "import h5py"
   ]
  },
  {
   "cell_type": "markdown",
   "id": "4c1e664a",
   "metadata": {},
   "source": [
    "# Salida risknyield"
   ]
  },
  {
   "cell_type": "code",
   "execution_count": null,
   "id": "25e6fee4",
   "metadata": {},
   "outputs": [],
   "source": [
    "SIM_PATH = Path(\"../data/results/testing_fixtures_maize/maize_baseline.h5\")\n",
    "print(SIM_PATH.resolve())  # Te muestra la ruta absoluta\n",
    "print(SIM_PATH.exists())  # True si existe, False si no"
   ]
  },
  {
   "cell_type": "code",
   "execution_count": null,
   "id": "0af57af6",
   "metadata": {},
   "outputs": [],
   "source": [
    "def recorrer_grupo(grupo, nivel=0):\n",
    "    for key, item in grupo.items():\n",
    "        print(\"  \" * nivel + f\"- {key}: {type(item)}\")\n",
    "        if isinstance(item, h5py.Group):\n",
    "            recorrer_grupo(item, nivel + 1)\n",
    "\n",
    "\n",
    "with h5py.File(SIM_PATH.resolve(), \"r\") as f:\n",
    "    recorrer_grupo(f)\n",
    "\n",
    "print()\n",
    "with h5py.File(SIM_PATH.resolve(), \"r\") as f:\n",
    "    for key, dset in f[\"results\"].items():\n",
    "        print(f\"{key:15} shape={dset.shape}, dtype={dset.dtype}\")"
   ]
  },
  {
   "cell_type": "markdown",
   "id": "751e9b86",
   "metadata": {},
   "source": [
    "## Yield and biomass"
   ]
  },
  {
   "cell_type": "code",
   "execution_count": null,
   "id": "77a3cea4",
   "metadata": {},
   "outputs": [],
   "source": [
    "with h5py.File(SIM_PATH.resolve(), \"r\") as f:\n",
    "    results = f[\"results\"]\n",
    "\n",
    "    yield_last = results[\"yield_tensor\"][:]  # numpy array\n",
    "    print(\"Shape:\", yield_last.shape)\n",
    "    print(\"Dtype:\", yield_last.dtype)\n",
    "    print(\"yield_last:\\n\", yield_last[0:5, 0:5, -1])\n",
    "    print()\n",
    "\n",
    "    biomass_cum = results[\"biomass_cum\"][:]  # numpy array\n",
    "    print(\"Shape:\", biomass_cum.shape)\n",
    "    print(\"Dtype:\", biomass_cum.dtype)\n",
    "    print(\"biomass_cum:\\n\", biomass_cum[0:5, 0:5, -1])"
   ]
  },
  {
   "cell_type": "code",
   "execution_count": null,
   "id": "f3a02f0e",
   "metadata": {},
   "outputs": [],
   "source": [
    "with h5py.File(SIM_PATH.resolve(), \"r\") as f:\n",
    "    results = f[\"results\"]\n",
    "\n",
    "    precip = results[\"precip\"][:]  # numpy array\n",
    "    print(\"Shape:\", precip.shape)\n",
    "    print(\"Dtype:\", precip.dtype)\n",
    "    print(\"precip:\\n\", precip[0:10])\n",
    "    print()"
   ]
  },
  {
   "cell_type": "markdown",
   "id": "8a5927a3",
   "metadata": {},
   "source": [
    "# Salida legacy"
   ]
  },
  {
   "cell_type": "code",
   "execution_count": null,
   "id": "fb3a41e9",
   "metadata": {},
   "outputs": [],
   "source": [
    "SIM_PATH_LEGACY = Path(\"../data/results/salida_modelo.h5\")\n",
    "print(SIM_PATH.resolve())  # Te muestra la ruta absoluta\n",
    "print(SIM_PATH.exists())  # True si existe, False si no"
   ]
  },
  {
   "cell_type": "code",
   "execution_count": null,
   "id": "a2f5bb69",
   "metadata": {},
   "outputs": [],
   "source": [
    "# Abrir archivo en modo lectura\n",
    "with h5py.File(SIM_PATH_LEGACY.resolve(), \"r\") as f:\n",
    "    # Listar los grupos principales\n",
    "    for key in f.keys():\n",
    "        print(key)\n",
    "        print(f[key])"
   ]
  },
  {
   "cell_type": "code",
   "execution_count": null,
   "id": "f375d761",
   "metadata": {},
   "outputs": [],
   "source": [
    "def recorrer_grupo(grupo, nivel=0):\n",
    "    for key, item in grupo.items():\n",
    "        print(\"  \" * nivel + f\"- {key}: {type(item)}\")\n",
    "        if isinstance(item, h5py.Group):\n",
    "            recorrer_grupo(item, nivel + 1)\n",
    "\n",
    "\n",
    "with h5py.File(SIM_PATH_LEGACY.resolve(), \"r\") as f:\n",
    "    recorrer_grupo(f)"
   ]
  },
  {
   "cell_type": "code",
   "execution_count": null,
   "id": "cc60d930",
   "metadata": {},
   "outputs": [],
   "source": [
    "with h5py.File(SIM_PATH_LEGACY.resolve(), \"r\") as f:\n",
    "    for key, dset in f.items():\n",
    "        print(f\"{key:15} shape={dset.shape}, dtype={dset.dtype}\")"
   ]
  },
  {
   "cell_type": "markdown",
   "id": "dc660265",
   "metadata": {},
   "source": [
    "## Yield and biomass\n"
   ]
  },
  {
   "cell_type": "code",
   "execution_count": null,
   "id": "c0ce420b",
   "metadata": {},
   "outputs": [],
   "source": [
    "with h5py.File(SIM_PATH_LEGACY.resolve(), \"r\") as f:\n",
    "    rendimiento = f[\"rendimiento\"]\n",
    "    # Ejemplo: leer biomasa acumulada\n",
    "    yield_last = rendimiento[:]  # type: ignore\n",
    "    print(\"Shape:\", yield_last.shape)  # type: ignore\n",
    "    print(\"Dtype:\", yield_last.dtype)  # type: ignore\n",
    "    print(\"yield_last:\\n\", yield_last[-1, 0:5, 0:5].T)  # type: ignore\n",
    "\n",
    "    biomasaAcumulada = f[\"biomasaAcumulada\"]\n",
    "    # Ejemplo: leer biomasa acumulada\n",
    "    print()\n",
    "    biomass_cum = biomasaAcumulada[:]  # type: ignore\n",
    "    print(\"Shape:\", biomass_cum.shape)  # type: ignore\n",
    "    print(\"Dtype:\", biomass_cum.dtype)  # type: ignore\n",
    "    print(\"biomass_cum:\\n\", biomass_cum[-1, 0:5, 0:5].T)  # type: ignore"
   ]
  },
  {
   "cell_type": "code",
   "execution_count": null,
   "id": "9c533da8",
   "metadata": {},
   "outputs": [],
   "source": [
    "with h5py.File(SIM_PATH_LEGACY.resolve(), \"r\") as f:\n",
    "    precipitacion_efectiva = f[\"precipitacion_efectiva\"]\n",
    "    # Ejemplo: leer biomasa acumulada\n",
    "    precip = precipitacion_efectiva[:]  # numpy array\n",
    "    print(\"Shape:\", precip.shape)\n",
    "    print(\"Dtype:\", precip.dtype)\n",
    "    print(\"precip:\\n\", precip[0:100, 0, 0].T)"
   ]
  },
  {
   "cell_type": "markdown",
   "id": "bb9744c6",
   "metadata": {},
   "source": [
    "## Input"
   ]
  },
  {
   "cell_type": "code",
   "execution_count": null,
   "id": "ee7c20b3",
   "metadata": {},
   "outputs": [],
   "source": [
    "INPUT_PATH = Path(\"../data/results/testing_fixtures_maize/maize_inputs.h5\")\n",
    "print(INPUT_PATH.resolve())  # Te muestra la ruta absoluta\n",
    "print(INPUT_PATH.exists())  # T"
   ]
  },
  {
   "cell_type": "code",
   "execution_count": 27,
   "id": "74f7f6ee",
   "metadata": {},
   "outputs": [
    {
     "name": "stdout",
     "output_type": "stream",
     "text": [
      "soil\n",
      "<HDF5 group \"/soil\" (6 members)>\n",
      "weather\n",
      "<HDF5 group \"/weather\" (4 members)>\n"
     ]
    }
   ],
   "source": [
    "with h5py.File(INPUT_PATH.resolve(), \"r\") as f:\n",
    "    # Listar los grupos principales\n",
    "    for key in f.keys():\n",
    "        print(key)\n",
    "        print(f[key])"
   ]
  },
  {
   "cell_type": "code",
   "execution_count": null,
   "id": "2fd413b4",
   "metadata": {},
   "outputs": [],
   "source": [
    "    # Ejemplo: leer biomasa acumulada\n",
    "    precip = precipitacion_efectiva[:]  # numpy array\n",
    "    print(\"Shape:\", precip.shape)\n",
    "    print(\"Dtype:\", precip.dtype)\n",
    "    print(\"precip:\\n\", precip[0:100, 0, 0].T)"
   ]
  }
 ],
 "metadata": {
  "kernelspec": {
   "display_name": "Python 3",
   "language": "python",
   "name": "python3"
  },
  "language_info": {
   "codemirror_mode": {
    "name": "ipython",
    "version": 3
   },
   "file_extension": ".py",
   "mimetype": "text/x-python",
   "name": "python",
   "nbconvert_exporter": "python",
   "pygments_lexer": "ipython3",
   "version": "3.13.0"
  }
 },
 "nbformat": 4,
 "nbformat_minor": 5
}
