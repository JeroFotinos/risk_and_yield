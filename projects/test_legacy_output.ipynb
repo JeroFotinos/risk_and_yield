{
 "cells": [
  {
   "cell_type": "code",
   "execution_count": 2,
   "id": "26c8fdb9",
   "metadata": {},
   "outputs": [],
   "source": [
    "from pathlib import Path\n",
    "import h5py"
   ]
  },
  {
   "cell_type": "markdown",
   "id": "4c1e664a",
   "metadata": {},
   "source": [
    "# Salida risknyield"
   ]
  },
  {
   "cell_type": "markdown",
   "id": "8fc131bf",
   "metadata": {},
   "source": [
    "# Exploration"
   ]
  },
  {
   "cell_type": "code",
   "execution_count": 3,
   "id": "25e6fee4",
   "metadata": {},
   "outputs": [
    {
     "name": "stdout",
     "output_type": "stream",
     "text": [
      "C:\\Users\\benjamin\\Desktop\\risk_and_yield\\data\\results\\testing_fixtures_maize\\maize_baseline.h5\n",
      "True\n"
     ]
    }
   ],
   "source": [
    "SIM_PATH = Path(\"../data/results/testing_fixtures_maize/maize_baseline.h5\")\n",
    "print(SIM_PATH.resolve())  # Te muestra la ruta absoluta\n",
    "print(SIM_PATH.exists())  # True si existe, False si no"
   ]
  },
  {
   "cell_type": "code",
   "execution_count": 4,
   "id": "0af57af6",
   "metadata": {},
   "outputs": [
    {
     "name": "stdout",
     "output_type": "stream",
     "text": [
      "- results: <class 'h5py._hl.group.Group'>\n",
      "  - au_layers: <class 'h5py._hl.dataset.Dataset'>\n",
      "  - biomass_cum: <class 'h5py._hl.dataset.Dataset'>\n",
      "  - biomass_daily: <class 'h5py._hl.dataset.Dataset'>\n",
      "  - ceh: <class 'h5py._hl.dataset.Dataset'>\n",
      "  - ceh_pc: <class 'h5py._hl.dataset.Dataset'>\n",
      "  - ceh_r: <class 'h5py._hl.dataset.Dataset'>\n",
      "  - cover: <class 'h5py._hl.dataset.Dataset'>\n",
      "  - dates: <class 'h5py._hl.dataset.Dataset'>\n",
      "  - eff_precip: <class 'h5py._hl.dataset.Dataset'>\n",
      "  - et0: <class 'h5py._hl.dataset.Dataset'>\n",
      "  - eur_act: <class 'h5py._hl.dataset.Dataset'>\n",
      "  - p_au: <class 'h5py._hl.dataset.Dataset'>\n",
      "  - par: <class 'h5py._hl.dataset.Dataset'>\n",
      "  - precip: <class 'h5py._hl.dataset.Dataset'>\n",
      "  - root_depth: <class 'h5py._hl.dataset.Dataset'>\n",
      "  - soil_evap: <class 'h5py._hl.dataset.Dataset'>\n",
      "  - t_eur: <class 'h5py._hl.dataset.Dataset'>\n",
      "  - temp: <class 'h5py._hl.dataset.Dataset'>\n",
      "  - transpiration: <class 'h5py._hl.dataset.Dataset'>\n",
      "  - yield_tensor: <class 'h5py._hl.dataset.Dataset'>\n"
     ]
    }
   ],
   "source": [
    "def recorrer_grupo(grupo, nivel=0):\n",
    "    for key, item in grupo.items():\n",
    "        print(\"  \" * nivel + f\"- {key}: {type(item)}\")\n",
    "        if isinstance(item, h5py.Group):\n",
    "            recorrer_grupo(item, nivel + 1)\n",
    "\n",
    "\n",
    "with h5py.File(SIM_PATH.resolve(), \"r\") as f:\n",
    "    recorrer_grupo(f)"
   ]
  },
  {
   "cell_type": "code",
   "execution_count": 5,
   "id": "aa70e3b8",
   "metadata": {},
   "outputs": [
    {
     "name": "stdout",
     "output_type": "stream",
     "text": [
      "au_layers       shape=(278, 358, 4, 181), dtype=float64\n",
      "biomass_cum     shape=(278, 358, 181), dtype=float64\n",
      "biomass_daily   shape=(278, 358, 181), dtype=float64\n",
      "ceh             shape=(278, 358, 181), dtype=float64\n",
      "ceh_pc          shape=(278, 358, 181), dtype=float64\n",
      "ceh_r           shape=(278, 358, 181), dtype=float64\n",
      "cover           shape=(278, 358, 181), dtype=float64\n",
      "dates           shape=(181,), dtype=int64\n",
      "eff_precip      shape=(278, 358, 181), dtype=float64\n",
      "et0             shape=(181,), dtype=float64\n",
      "eur_act         shape=(278, 358, 181), dtype=float64\n",
      "p_au            shape=(278, 358, 181), dtype=float64\n",
      "par             shape=(181,), dtype=float64\n",
      "precip          shape=(181,), dtype=float64\n",
      "root_depth      shape=(278, 358, 181), dtype=float64\n",
      "soil_evap       shape=(278, 358, 181), dtype=float64\n",
      "t_eur           shape=(278, 358, 181), dtype=float64\n",
      "temp            shape=(181,), dtype=float64\n",
      "transpiration   shape=(278, 358, 181), dtype=float64\n",
      "yield_tensor    shape=(278, 358, 181), dtype=float64\n"
     ]
    }
   ],
   "source": [
    "with h5py.File(SIM_PATH.resolve(), \"r\") as f:\n",
    "    for key, dset in f[\"results\"].items():\n",
    "        print(f\"{key:15} shape={dset.shape}, dtype={dset.dtype}\")"
   ]
  },
  {
   "cell_type": "markdown",
   "id": "751e9b86",
   "metadata": {},
   "source": [
    "## Yield and biomass"
   ]
  },
  {
   "cell_type": "code",
   "execution_count": 6,
   "id": "77a3cea4",
   "metadata": {},
   "outputs": [
    {
     "name": "stdout",
     "output_type": "stream",
     "text": [
      "Shape: (278, 358, 181)\n",
      "Dtype: float64\n",
      "yield_last:\n",
      " [[   0.            0.            0.            0.            0.        ]\n",
      " [1312.34264267    0.            0.            0.            0.        ]\n",
      " [1562.94341786 1562.94341786    0.            0.            0.        ]\n",
      " [1562.94341786 1584.56170084 1562.94341786 1562.94341786 1562.94341786]\n",
      " [1562.94341786 1562.94341786 1540.84135812 1562.94341786    0.        ]]\n",
      "\n",
      "Shape: (278, 358, 181)\n",
      "Dtype: float64\n",
      "biomass_cum:\n",
      " [[   0.            0.            0.            0.            0.        ]\n",
      " [2734.04717232    0.            0.            0.            0.        ]\n",
      " [3256.13212149 3256.13212149    0.            0.            0.        ]\n",
      " [3256.13212149 3301.17021126 3256.13212149 3256.13212149 3256.13212149]\n",
      " [3256.13212149 3256.13212149 3210.08616353 3256.13212149    0.        ]]\n"
     ]
    }
   ],
   "source": [
    "with h5py.File(SIM_PATH.resolve(), \"r\") as f:\n",
    "    results = f[\"results\"]\n",
    "\n",
    "    yield_last = results[\"yield_tensor\"][:]  # numpy array\n",
    "    print(\"Shape:\", yield_last.shape)\n",
    "    print(\"Dtype:\", yield_last.dtype)\n",
    "    print(\"yield_last:\\n\", yield_last[0:5, 0:5, -1])\n",
    "    print()\n",
    "\n",
    "    biomass_cum = results[\"biomass_cum\"][:]  # numpy array\n",
    "    print(\"Shape:\", biomass_cum.shape)\n",
    "    print(\"Dtype:\", biomass_cum.dtype)\n",
    "    print(\"biomass_cum:\\n\", biomass_cum[0:5, 0:5, -1])"
   ]
  },
  {
   "cell_type": "code",
   "execution_count": 7,
   "id": "f3a02f0e",
   "metadata": {},
   "outputs": [
    {
     "name": "stdout",
     "output_type": "stream",
     "text": [
      "Shape: (181,)\n",
      "Dtype: float64\n",
      "precip:\n",
      " [ 0.    0.    0.    0.    0.    0.    9.4   0.   11.43  0.  ]\n",
      "\n"
     ]
    }
   ],
   "source": [
    "with h5py.File(SIM_PATH.resolve(), \"r\") as f:\n",
    "    results = f[\"results\"]\n",
    "\n",
    "    precip = results[\"precip\"][:]  # numpy array\n",
    "    print(\"Shape:\", precip.shape)\n",
    "    print(\"Dtype:\", precip.dtype)\n",
    "    print(\"precip:\\n\", precip[0:10])\n",
    "    print()"
   ]
  },
  {
   "cell_type": "markdown",
   "id": "8a5927a3",
   "metadata": {},
   "source": [
    "# Salida legacy"
   ]
  },
  {
   "cell_type": "markdown",
   "id": "c2b07f58",
   "metadata": {},
   "source": [
    "## Exploration"
   ]
  },
  {
   "cell_type": "code",
   "execution_count": 8,
   "id": "fb3a41e9",
   "metadata": {},
   "outputs": [
    {
     "name": "stdout",
     "output_type": "stream",
     "text": [
      "C:\\Users\\benjamin\\Desktop\\risk_and_yield\\data\\results\\testing_fixtures_maize\\maize_baseline.h5\n",
      "True\n"
     ]
    }
   ],
   "source": [
    "SIM_PATH_LEGACY = Path(\"../data/results/salida_modelo.h5\")\n",
    "print(SIM_PATH.resolve())  # Te muestra la ruta absoluta\n",
    "print(SIM_PATH.exists())  # True si existe, False si no"
   ]
  },
  {
   "cell_type": "code",
   "execution_count": null,
   "id": "a2f5bb69",
   "metadata": {},
   "outputs": [],
   "source": [
    "# Abrir archivo en modo lectura\n",
    "with h5py.File(SIM_PATH_LEGACY.resolve(), \"r\") as f:\n",
    "    # Listar los grupos principales\n",
    "    for key in f.keys():\n",
    "        print(key)\n",
    "        print(f[key])"
   ]
  },
  {
   "cell_type": "code",
   "execution_count": null,
   "id": "f375d761",
   "metadata": {},
   "outputs": [],
   "source": [
    "def recorrer_grupo(grupo, nivel=0):\n",
    "    for key, item in grupo.items():\n",
    "        print(\"  \" * nivel + f\"- {key}: {type(item)}\")\n",
    "        if isinstance(item, h5py.Group):\n",
    "            recorrer_grupo(item, nivel + 1)\n",
    "\n",
    "\n",
    "with h5py.File(SIM_PATH_LEGACY.resolve(), \"r\") as f:\n",
    "    recorrer_grupo(f)"
   ]
  },
  {
   "cell_type": "code",
   "execution_count": null,
   "id": "cc60d930",
   "metadata": {},
   "outputs": [],
   "source": [
    "with h5py.File(SIM_PATH_LEGACY.resolve(), \"r\") as f:\n",
    "    for key, dset in f.items():\n",
    "        print(f\"{key:15} shape={dset.shape}, dtype={dset.dtype}\")"
   ]
  },
  {
   "cell_type": "markdown",
   "id": "dc660265",
   "metadata": {},
   "source": [
    "## Yield and biomass\n"
   ]
  },
  {
   "cell_type": "code",
   "execution_count": null,
   "id": "c0ce420b",
   "metadata": {},
   "outputs": [],
   "source": [
    "with h5py.File(SIM_PATH_LEGACY.resolve(), \"r\") as f:\n",
    "    rendimiento = f[\"rendimiento\"]\n",
    "    # Ejemplo: leer biomasa acumulada\n",
    "    yield_last = rendimiento[:]  # numpy array\n",
    "    print(\"Shape:\", yield_last.shape)\n",
    "    print(\"Dtype:\", yield_last.dtype)\n",
    "    print(\"yield_last:\\n\", 2 * yield_last[-1, 0:5, 0:5].T)\n",
    "\n",
    "    biomasaAcumulada = f[\"biomasaAcumulada\"]\n",
    "    # Ejemplo: leer biomasa acumulada\n",
    "    print()\n",
    "    biomass_cum = biomasaAcumulada[:]  # numpy array\n",
    "    print(\"Shape:\", biomass_cum.shape)\n",
    "    print(\"Dtype:\", biomass_cum.dtype)\n",
    "    print(\"biomass_cum:\\n\", 2 * biomass_cum[-1, 0:5, 0:5].T)"
   ]
  },
  {
   "cell_type": "code",
   "execution_count": null,
   "id": "9c533da8",
   "metadata": {},
   "outputs": [
    {
     "name": "stdout",
     "output_type": "stream",
     "text": [
      "Shape: (181, 358, 278)\n",
      "Dtype: float64\n",
      "precip:\n",
      " [ 0.      0.      0.      0.      0.      0.      8.93    0.     10.8585\n",
      "  0.      0.      0.      0.      0.      0.      0.      0.      0.722\n",
      "  1.691   0.      0.      0.      0.      0.      0.      0.323   0.646\n",
      "  0.969   0.4845 20.5105  0.      0.      0.      0.      0.      0.\n",
      "  0.      0.      0.      0.      0.      0.      0.      1.444  47.8818\n",
      " 12.35    0.      0.      0.      0.     35.081   0.      0.285   0.\n",
      "  0.      0.      0.      0.      0.      0.      3.6195  4.8545 20.2445\n",
      "  0.      0.      0.      0.      0.      0.     24.38    0.      0.\n",
      "  0.      0.      1.425   0.19    0.      0.      0.      0.      0.\n",
      "  0.      6.27    0.      0.      0.4845  7.695   0.      0.      0.\n",
      "  0.285  69.8765  0.19    3.4295 10.0605 15.4945  2.1945  0.      0.\n",
      "  0.    ]\n"
     ]
    }
   ],
   "source": [
    "with h5py.File(SIM_PATH_LEGACY.resolve(), \"r\") as f:\n",
    "    precipitacion_efectiva = f[\"precipitacion_efectiva\"]\n",
    "    # Ejemplo: leer biomasa acumulada\n",
    "    precip = precipitacion_efectiva[:]  # numpy array\n",
    "    print(\"Shape:\", precip.shape)\n",
    "    print(\"Dtype:\", precip.dtype)\n",
    "    print(\"precip:\\n\", precip[0:100, 0, 0].T)"
   ]
  }
 ],
 "metadata": {
  "kernelspec": {
   "display_name": "Python 3",
   "language": "python",
   "name": "python3"
  },
  "language_info": {
   "codemirror_mode": {
    "name": "ipython",
    "version": 3
   },
   "file_extension": ".py",
   "mimetype": "text/x-python",
   "name": "python",
   "nbconvert_exporter": "python",
   "pygments_lexer": "ipython3",
   "version": "3.13.0"
  }
 },
 "nbformat": 4,
 "nbformat_minor": 5
}
