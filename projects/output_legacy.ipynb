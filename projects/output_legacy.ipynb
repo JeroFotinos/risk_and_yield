{
 "cells": [
  {
   "cell_type": "code",
   "execution_count": null,
   "id": "6d1a7e95",
   "metadata": {},
   "outputs": [],
   "source": [
    "from pathlib import Path\n",
    "import h5py\n",
    "from typing import Tuple, Dict\n",
    "import numpy as np\n",
    "\n",
    "SIM_PATH_LEGACY = Path(\"../data/results/salida_modelo_copy.h5\")\n",
    "print(SIM_PATH_LEGACY.resolve())  # Te muestra la ruta absoluta\n",
    "print(SIM_PATH_LEGACY.exists())  # True si existe, False si no"
   ]
  },
  {
   "cell_type": "code",
   "execution_count": null,
   "id": "05c57118",
   "metadata": {},
   "outputs": [],
   "source": [
    "def load_all_datasets(path: str | Path) -> Dict[str, np.ndarray]:\n",
    "    \"\"\"Carga todos los datasets de un archivo HDF5 plano (sin grupos).\"\"\"\n",
    "    arrays: Dict[str, np.ndarray] = {}\n",
    "    with h5py.File(path, \"r\") as f:\n",
    "        for name, ds in f.items():\n",
    "            if isinstance(ds, h5py.Dataset):\n",
    "                arrays[name] = ds[:]  # pasar a numpy\n",
    "    return arrays\n",
    "\n",
    "\n",
    "# Abrir archivo en modo lectura\n",
    "with h5py.File(SIM_PATH_LEGACY.resolve(), \"r\") as f:\n",
    "    # Listar los grupos principales\n",
    "    for key in f.keys():\n",
    "        print(f[key])"
   ]
  },
  {
   "cell_type": "code",
   "execution_count": null,
   "id": "cf0dc04f",
   "metadata": {},
   "outputs": [],
   "source": [
    "data: Dict[str, np.ndarray] = load_all_datasets(SIM_PATH_LEGACY.resolve())"
   ]
  },
  {
   "cell_type": "code",
   "execution_count": null,
   "id": "ddfbcc6e",
   "metadata": {},
   "outputs": [],
   "source": [
    "print(data.keys())"
   ]
  },
  {
   "cell_type": "code",
   "execution_count": null,
   "id": "389444a8",
   "metadata": {},
   "outputs": [],
   "source": [
    "import h5py\n",
    "\n",
    "mapping = {\n",
    "    \"EUR\": \"eur_act\",\n",
    "    \"biomasaAcumulada\": \"biomass_cum\",\n",
    "    \"biomasaDiaria\": \"biomass_daily\",\n",
    "    \"cEstresHidrico\": \"ceh\",\n",
    "    \"cEstresHidricoRadiacion\": \"ceh_r\",\n",
    "    # \"ceh_pc\": \"ceh_pc\",\n",
    "    \"evaporacion\": \"soil_evap\",\n",
    "    \"porcAguaUtil\": \"p_au\",\n",
    "    \"porcCobertura\": \"cover\",\n",
    "    \"precipitacion_efectiva\": \"eff_precip\",\n",
    "    \"profRaiz\": \"root_depth\",\n",
    "    \"rendimiento\": \"yield_tensor\",\n",
    "    \"transpiracion\": \"transpiration\",\n",
    "}\n",
    "\n",
    "\n",
    "def rename_h5_keys(file_path: Path, mapping: dict[str, str]) -> None:\n",
    "    \"\"\"Renames datasets or groups in an HDF5 file based on a mapping.\n",
    "\n",
    "    Parameters\n",
    "    ----------\n",
    "    file_path : str\n",
    "        Path to the .h5 file to modify.\n",
    "    mapping : dict[str, str]\n",
    "        Dictionary mapping old keys to new keys.\n",
    "    \"\"\"\n",
    "    with h5py.File(file_path, \"r+\") as f:\n",
    "        for old_key, new_key in mapping.items():\n",
    "            if old_key in f:\n",
    "                print(f\"Renaming '{old_key}' → '{new_key}'\")\n",
    "                f.copy(f[old_key], new_key)\n",
    "                del f[old_key]\n",
    "            else:\n",
    "                print(f\"Key '{old_key}' not found — skipped.\")"
   ]
  },
  {
   "cell_type": "code",
   "execution_count": null,
   "id": "9b49f147",
   "metadata": {},
   "outputs": [],
   "source": [
    "rename_h5_keys(SIM_PATH_LEGACY.resolve(), mapping)"
   ]
  },
  {
   "cell_type": "code",
   "execution_count": null,
   "id": "d22975e7",
   "metadata": {},
   "outputs": [],
   "source": [
    "data = load_all_datasets(SIM_PATH_LEGACY.resolve())\n",
    "print(data.keys())"
   ]
  },
  {
   "cell_type": "code",
   "execution_count": null,
   "id": "8710dedf",
   "metadata": {},
   "outputs": [],
   "source": [
    "keys_to_drop = [\n",
    "    \"ici\",\n",
    "    \"drenaje\",\n",
    "    \"diasDesdePrec\",\n",
    "    \"percolacion_capa_1\",\n",
    "    \"percolacion_capa_2\",\n",
    "    \"percolacion_capa_3\",\n",
    "    \"aguaUtilDisp1\",\n",
    "    \"aguaUtilDisp2\",\n",
    "    \"aguaUtilDisp3\",\n",
    "    \"aguaUtilDisp4\",\n",
    "    \"cEstrsTerminco\",\n",
    "]"
   ]
  },
  {
   "cell_type": "code",
   "execution_count": null,
   "id": "fc5ef039",
   "metadata": {},
   "outputs": [],
   "source": [
    "filtered = {k: v for k, v in data.items() if k not in keys_to_drop}"
   ]
  },
  {
   "cell_type": "code",
   "execution_count": null,
   "id": "d08e029d",
   "metadata": {},
   "outputs": [],
   "source": [
    "for key in filtered.keys():\n",
    "    print(key, filtered[key].shape)\n",
    "    print(filtered[key][0:5, :5, :5])\n",
    "\n",
    "    # filtered_reordered = np.transpose(filtered[key], (2, 1, 0))\n",
    "    # print(filtered[key].T[0, :3, :10])\n",
    "    # print()\n",
    "\n",
    "    # print(key, filtered_reordered.shape)\n",
    "    # print(filtered_reordered[:3, :10, 0])\n",
    "    # print()"
   ]
  },
  {
   "cell_type": "code",
   "execution_count": 80,
   "id": "3a306c19",
   "metadata": {},
   "outputs": [
    {
     "data": {
      "text/plain": [
       "array([[[       nan, 0.86666667, 0.86666667, 0.86666667, 0.86666667],\n",
       "        [       nan,        nan, 0.86666667, 0.86666667, 0.86666667],\n",
       "        [       nan,        nan,        nan, 0.86666667, 0.86666667],\n",
       "        [       nan,        nan,        nan, 0.86666667, 0.86666667],\n",
       "        [       nan,        nan,        nan, 0.86666667,        nan]],\n",
       "\n",
       "       [[       nan, 0.85227121, 0.85227121, 0.85227121, 0.85227121],\n",
       "        [       nan,        nan, 0.85227121, 0.85227121, 0.85227121],\n",
       "        [       nan,        nan,        nan, 0.85227121, 0.85227121],\n",
       "        [       nan,        nan,        nan, 0.85227121, 0.85227121],\n",
       "        [       nan,        nan,        nan, 0.85227121,        nan]]])"
      ]
     },
     "execution_count": 80,
     "metadata": {},
     "output_type": "execute_result"
    }
   ],
   "source": [
    "filtered[\"p_au\"][0:2, 0:5, 0:5]"
   ]
  },
  {
   "cell_type": "code",
   "execution_count": 81,
   "id": "425026c1",
   "metadata": {},
   "outputs": [
    {
     "data": {
      "text/plain": [
       "array([[[       nan,        nan,        nan,        nan,        nan],\n",
       "        [0.86666667,        nan,        nan,        nan,        nan],\n",
       "        [0.86666667, 0.86666667,        nan,        nan,        nan],\n",
       "        [0.86666667, 0.86666667, 0.86666667, 0.86666667, 0.86666667],\n",
       "        [0.86666667, 0.86666667, 0.86666667, 0.86666667,        nan]],\n",
       "\n",
       "       [[       nan,        nan,        nan,        nan,        nan],\n",
       "        [0.85227121,        nan,        nan,        nan,        nan],\n",
       "        [0.85227121, 0.85227121,        nan,        nan,        nan],\n",
       "        [0.85227121, 0.85227121, 0.85227121, 0.85227121, 0.85227121],\n",
       "        [0.85227121, 0.85227121, 0.85227121, 0.85227121,        nan]]])"
      ]
     },
     "execution_count": 81,
     "metadata": {},
     "output_type": "execute_result"
    }
   ],
   "source": [
    "np.transpose(filtered[\"p_au\"], (0, 2, 1))[0:2, 0:5, 0:5]"
   ]
  },
  {
   "cell_type": "code",
   "execution_count": null,
   "id": "730ab641",
   "metadata": {},
   "outputs": [],
   "source": [
    "transposed = np.transpose(filtered[\"p_au\"], (0, 2, 1))[0:2, 0:5, 0:5]"
   ]
  },
  {
   "cell_type": "code",
   "execution_count": null,
   "id": "249a5213",
   "metadata": {},
   "outputs": [],
   "source": [
    "np.transpose(transposed)"
   ]
  }
 ],
 "metadata": {
  "kernelspec": {
   "display_name": "Python 3",
   "language": "python",
   "name": "python3"
  },
  "language_info": {
   "codemirror_mode": {
    "name": "ipython",
    "version": 3
   },
   "file_extension": ".py",
   "mimetype": "text/x-python",
   "name": "python",
   "nbconvert_exporter": "python",
   "pygments_lexer": "ipython3",
   "version": "3.13.0"
  }
 },
 "nbformat": 4,
 "nbformat_minor": 5
}
