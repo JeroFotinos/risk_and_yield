{
 "cells": [
  {
   "cell_type": "code",
   "execution_count": null,
   "id": "6d1a7e95",
   "metadata": {},
   "outputs": [],
   "source": [
    "from pathlib import Path\n",
    "import h5py\n",
    "from typing import Tuple, Dict\n",
    "import numpy as np\n",
    "\n",
    "SIM_PATH_LEGACY = Path(\"../data/results/salida_modelo.h5\")\n",
    "print(SIM_PATH_LEGACY.resolve())  # Te muestra la ruta absoluta\n",
    "print(SIM_PATH_LEGACY.exists())  # True si existe, False si no"
   ]
  },
  {
   "cell_type": "code",
   "execution_count": 8,
   "id": "05c57118",
   "metadata": {},
   "outputs": [],
   "source": [
    "def load_all_datasets(path: str | Path) -> Dict[str, np.ndarray]:\n",
    "    \"\"\"Carga todos los datasets de un archivo HDF5 plano (sin grupos).\"\"\"\n",
    "    arrays: Dict[str, np.ndarray] = {}\n",
    "    with h5py.File(path, \"r\") as f:\n",
    "        for name, ds in f.items():\n",
    "            if isinstance(ds, h5py.Dataset):\n",
    "                arrays[name] = ds[:]  # pasar a numpy\n",
    "    return arrays"
   ]
  },
  {
   "cell_type": "code",
   "execution_count": null,
   "id": "7b25e961",
   "metadata": {},
   "outputs": [],
   "source": [
    "# Abrir archivo en modo lectura\n",
    "with h5py.File(SIM_PATH_LEGACY.resolve(), \"r\") as f:\n",
    "    # Listar los grupos principales\n",
    "    for key in f.keys():\n",
    "        print(key)\n",
    "        print(f[key])"
   ]
  },
  {
   "cell_type": "code",
   "execution_count": 9,
   "id": "cf0dc04f",
   "metadata": {},
   "outputs": [],
   "source": [
    "data = load_all_datasets(SIM_PATH_LEGACY.resolve())"
   ]
  },
  {
   "cell_type": "code",
   "execution_count": 10,
   "id": "ddfbcc6e",
   "metadata": {},
   "outputs": [
    {
     "name": "stdout",
     "output_type": "stream",
     "text": [
      "dict_keys(['EUR', 'aguaUtilDisp1', 'aguaUtilDisp2', 'aguaUtilDisp3', 'aguaUtilDisp4', 'biomasaAcumulada', 'biomasaDiaria', 'cEstresHidrico', 'cEstresHidricoRadiacion', 'cEstrsTerminco', 'ceh_pc', 'diasDesdePrec', 'drenaje', 'evaporacion', 'ici', 'percolacion_capa_1', 'percolacion_capa_2', 'percolacion_capa_3', 'porcAguaUtil', 'porcCobertura', 'precipitacion_efectiva', 'profRaiz', 'rendimiento', 'transpiracion'])\n"
     ]
    }
   ],
   "source": [
    "print(data.keys())"
   ]
  },
  {
   "cell_type": "code",
   "execution_count": null,
   "id": "662b2291",
   "metadata": {},
   "outputs": [
    {
     "name": "stdout",
     "output_type": "stream",
     "text": [
      "[0.         1.52686843 2.11542305 2.64202703 2.21356327 0.77935712\n",
      " 0.27125993 2.06643849 1.4433079  0.89174584 2.41589742 2.33516053\n",
      " 2.82796474 2.87218458 2.82526437 3.20832561 2.57350085 2.76655435\n",
      " 1.60564981 2.58212709]\n"
     ]
    }
   ],
   "source": [
    "# evaporacion\n",
    "print(data[\"evaporacion\"][:20, 0, 0])\n",
    "# transpiracion\n",
    "print(data[\"transpiracion\"][:20, 0, 0])"
   ]
  },
  {
   "cell_type": "code",
   "execution_count": 37,
   "id": "d3eb9caa",
   "metadata": {},
   "outputs": [
    {
     "name": "stdout",
     "output_type": "stream",
     "text": [
      "[[2.21356327 2.21356327 2.21356327 2.21356327 2.21356327]\n",
      " [0.98993559 2.21356327 2.21356327 2.21356327 2.21356327]\n",
      " [0.98993559 0.98993559 2.21356327 2.21356327 2.21356327]\n",
      " [0.98993559 0.98993559 0.98993559 0.98993559 0.98993559]\n",
      " [0.98993559 0.98993559 0.98993559 0.98993559 2.21356327]]\n"
     ]
    }
   ],
   "source": [
    "print(data[\"evaporacion\"][4, :5, :5].T)"
   ]
  },
  {
   "cell_type": "code",
   "execution_count": 27,
   "id": "ad12b42f",
   "metadata": {},
   "outputs": [
    {
     "name": "stdout",
     "output_type": "stream",
     "text": [
      "[3.39047619 3.21904762 3.33333333 3.63809524 3.88571429 3.08571429\n",
      " 2.34285714 3.2        2.99047619 2.66666667 3.35238095 3.08571429\n",
      " 3.58095238 3.6        3.92380952 4.         4.         4.\n",
      " 4.         4.        ]\n",
      "[nan nan nan nan nan nan nan nan nan nan nan nan nan nan nan nan nan nan\n",
      " nan nan]\n"
     ]
    }
   ],
   "source": [
    "# par\n",
    "print(data[\"EUR\"][:20, 0, 2])\n",
    "print(data[\"EUR\"][:20, 0, 0])"
   ]
  },
  {
   "cell_type": "code",
   "execution_count": 15,
   "id": "3498dd3b",
   "metadata": {},
   "outputs": [
    {
     "name": "stdout",
     "output_type": "stream",
     "text": [
      "[ 0.      0.      0.      0.      0.      0.      8.93    0.     10.8585\n",
      "  0.      0.      0.      0.      0.      0.      0.      0.      0.722\n",
      "  1.691   0.    ]\n"
     ]
    }
   ],
   "source": [
    "print(data[\"precipitacion_efectiva\"][:20, 0, 0])"
   ]
  }
 ],
 "metadata": {
  "kernelspec": {
   "display_name": "Python 3",
   "language": "python",
   "name": "python3"
  },
  "language_info": {
   "codemirror_mode": {
    "name": "ipython",
    "version": 3
   },
   "file_extension": ".py",
   "mimetype": "text/x-python",
   "name": "python",
   "nbconvert_exporter": "python",
   "pygments_lexer": "ipython3",
   "version": "3.13.0"
  }
 },
 "nbformat": 4,
 "nbformat_minor": 5
}
