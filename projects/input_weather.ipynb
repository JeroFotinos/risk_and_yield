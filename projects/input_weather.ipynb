{
 "cells": [
  {
   "cell_type": "code",
   "execution_count": 37,
   "id": "acb45f60",
   "metadata": {},
   "outputs": [
    {
     "name": "stdout",
     "output_type": "stream",
     "text": [
      "C:\\Users\\benjamin\\Desktop\\risk_and_yield\\data\\results\\testing_fixtures_maize\\maize_inputs.h5\n",
      "True\n"
     ]
    }
   ],
   "source": [
    "from pathlib import Path\n",
    "import h5py\n",
    "from typing import Tuple, Dict\n",
    "import numpy as np\n",
    "\n",
    "INPUT_PATH = Path(\"../data/results/testing_fixtures_maize/maize_inputs.h5\")\n",
    "print(INPUT_PATH.resolve())  # Te muestra la ruta absoluta\n",
    "print(INPUT_PATH.exists())  # T"
   ]
  },
  {
   "cell_type": "code",
   "execution_count": 43,
   "id": "22e2850f",
   "metadata": {},
   "outputs": [],
   "source": [
    "def load_all_arrays_from_h5(\n",
    "    path: str | Path,\n",
    ") -> Dict[str, Dict[str, np.ndarray]]:\n",
    "    \"\"\"Carga todos los grupos y datasets de un archivo HDF5 a memoria.\n",
    "\n",
    "    Parameters\n",
    "    ----------\n",
    "    path : str\n",
    "        Ruta del archivo HDF5.\n",
    "\n",
    "    Returns\n",
    "    -------\n",
    "    Dict[str, Dict[str, np.ndarray]]\n",
    "        Diccionario anidado: {grupo: {dataset: array}}\n",
    "    \"\"\"\n",
    "    data: Dict[str, Dict[str, np.ndarray]] = {}\n",
    "    with h5py.File(path, \"r\") as f:\n",
    "        for group_name in f.keys():\n",
    "            group = f[group_name]\n",
    "            group_dict: Dict[str, np.ndarray] = {}\n",
    "            for ds_name, ds in group.items():\n",
    "                if isinstance(ds, h5py.Dataset):\n",
    "                    group_dict[ds_name] = ds[:]  # cargar a numpy\n",
    "            data[group_name] = group_dict\n",
    "    return data"
   ]
  },
  {
   "cell_type": "code",
   "execution_count": 44,
   "id": "db402b1a",
   "metadata": {},
   "outputs": [],
   "source": [
    "data = load_all_arrays_from_h5(INPUT_PATH.resolve())"
   ]
  },
  {
   "cell_type": "code",
   "execution_count": null,
   "id": "a6189d8d",
   "metadata": {},
   "outputs": [],
   "source": [
    "soil_keys = data[\"soil\"].keys()\n",
    "weather_keys = data[\"weather\"].keys()"
   ]
  },
  {
   "cell_type": "code",
   "execution_count": 57,
   "id": "a32a675d",
   "metadata": {},
   "outputs": [
    {
     "name": "stdout",
     "output_type": "stream",
     "text": [
      "dict_keys(['et0', 'par', 'precip', 'temp'])\n",
      "dict_keys(['dds0', 'lat', 'lon', 'mask_maize', 'mask_soy', 'water0'])\n"
     ]
    }
   ],
   "source": [
    "print(weather_keys)\n",
    "print(soil_keys)"
   ]
  },
  {
   "cell_type": "code",
   "execution_count": 53,
   "id": "a4c0460b",
   "metadata": {},
   "outputs": [
    {
     "data": {
      "text/plain": [
       "array([1.60165144, 1.38806221, 1.92311187, 2.40184275, 2.01233024,\n",
       "       0.70850647, 0.24659994, 1.87858045, 1.31209809, 0.81067803,\n",
       "       2.19627038, 2.12287321, 2.57087704, 2.61107689, 2.56842216,\n",
       "       2.91665965, 2.33954623, 2.51504941, 1.45968165, 2.34738826])"
      ]
     },
     "execution_count": 53,
     "metadata": {},
     "output_type": "execute_result"
    }
   ],
   "source": [
    "data[\"weather\"][\"et0\"][:20]"
   ]
  },
  {
   "cell_type": "code",
   "execution_count": 54,
   "id": "c4a776fc",
   "metadata": {},
   "outputs": [
    {
     "data": {
      "text/plain": [
       "array([10.816416,  9.359712, 11.379744, 14.387328, 11.064384,  5.68512 ,\n",
       "        3.449088, 12.384576,  8.642592,  6.189696, 12.438144, 12.731904,\n",
       "       14.684544, 14.097024, 14.656032, 14.694048, 12.032064, 12.76128 ,\n",
       "        8.001504, 13.90608 ])"
      ]
     },
     "execution_count": 54,
     "metadata": {},
     "output_type": "execute_result"
    }
   ],
   "source": [
    "data[\"weather\"][\"par\"][:20]"
   ]
  },
  {
   "cell_type": "code",
   "execution_count": 55,
   "id": "82df6768",
   "metadata": {},
   "outputs": [
    {
     "data": {
      "text/plain": [
       "array([ 0.  ,  0.  ,  0.  ,  0.  ,  0.  ,  0.  ,  9.4 ,  0.  , 11.43,\n",
       "        0.  ,  0.  ,  0.  ,  0.  ,  0.  ,  0.  ,  0.  ,  0.  ,  0.76,\n",
       "        1.78,  0.  ])"
      ]
     },
     "execution_count": 55,
     "metadata": {},
     "output_type": "execute_result"
    }
   ],
   "source": [
    "data[\"weather\"][\"precip\"][:20]"
   ]
  },
  {
   "cell_type": "code",
   "execution_count": 56,
   "id": "6ea25af1",
   "metadata": {},
   "outputs": [
    {
     "data": {
      "text/plain": [
       "array([25.8, 24.9, 25.5, 27.1, 28.4, 24.2, 20.3, 24.8, 23.7, 22. , 25.6,\n",
       "       24.2, 26.8, 26.9, 28.6, 30.6, 35. , 29.4, 30.5, 33.7])"
      ]
     },
     "execution_count": 56,
     "metadata": {},
     "output_type": "execute_result"
    }
   ],
   "source": [
    "data[\"weather\"][\"temp\"][:20]"
   ]
  }
 ],
 "metadata": {
  "kernelspec": {
   "display_name": "Python 3",
   "language": "python",
   "name": "python3"
  },
  "language_info": {
   "codemirror_mode": {
    "name": "ipython",
    "version": 3
   },
   "file_extension": ".py",
   "mimetype": "text/x-python",
   "name": "python",
   "nbconvert_exporter": "python",
   "pygments_lexer": "ipython3",
   "version": "3.13.0"
  }
 },
 "nbformat": 4,
 "nbformat_minor": 5
}
