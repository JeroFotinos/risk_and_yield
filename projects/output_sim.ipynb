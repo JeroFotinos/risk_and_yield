{
 "cells": [
  {
   "cell_type": "code",
   "execution_count": 1,
   "id": "73415d41",
   "metadata": {},
   "outputs": [],
   "source": [
    "from pathlib import Path\n",
    "import h5py"
   ]
  },
  {
   "cell_type": "code",
   "execution_count": 2,
   "id": "2c1237a6",
   "metadata": {},
   "outputs": [
    {
     "name": "stdout",
     "output_type": "stream",
     "text": [
      "C:\\Users\\benjamin\\Desktop\\risk_and_yield\\data\\results\\testing_fixtures_maize\\maize_baseline.h5\n",
      "True\n"
     ]
    }
   ],
   "source": [
    "SIM_PATH = Path(\"../data/results/testing_fixtures_maize/maize_baseline.h5\")\n",
    "print(SIM_PATH.resolve())  # Te muestra la ruta absoluta\n",
    "print(SIM_PATH.exists())  # True si existe, False si no"
   ]
  },
  {
   "cell_type": "code",
   "execution_count": 3,
   "id": "e11a74a2",
   "metadata": {},
   "outputs": [
    {
     "name": "stdout",
     "output_type": "stream",
     "text": [
      "- results: <class 'h5py._hl.group.Group'>\n",
      "  - au_layers: <class 'h5py._hl.dataset.Dataset'>\n",
      "  - biomass_cum: <class 'h5py._hl.dataset.Dataset'>\n",
      "  - biomass_daily: <class 'h5py._hl.dataset.Dataset'>\n",
      "  - ceh: <class 'h5py._hl.dataset.Dataset'>\n",
      "  - ceh_pc: <class 'h5py._hl.dataset.Dataset'>\n",
      "  - ceh_r: <class 'h5py._hl.dataset.Dataset'>\n",
      "  - cover: <class 'h5py._hl.dataset.Dataset'>\n",
      "  - dates: <class 'h5py._hl.dataset.Dataset'>\n",
      "  - eff_precip: <class 'h5py._hl.dataset.Dataset'>\n",
      "  - et0: <class 'h5py._hl.dataset.Dataset'>\n",
      "  - eur_act: <class 'h5py._hl.dataset.Dataset'>\n",
      "  - p_au: <class 'h5py._hl.dataset.Dataset'>\n",
      "  - par: <class 'h5py._hl.dataset.Dataset'>\n",
      "  - precip: <class 'h5py._hl.dataset.Dataset'>\n",
      "  - root_depth: <class 'h5py._hl.dataset.Dataset'>\n",
      "  - soil_evap: <class 'h5py._hl.dataset.Dataset'>\n",
      "  - t_eur: <class 'h5py._hl.dataset.Dataset'>\n",
      "  - temp: <class 'h5py._hl.dataset.Dataset'>\n",
      "  - transpiration: <class 'h5py._hl.dataset.Dataset'>\n",
      "  - yield_tensor: <class 'h5py._hl.dataset.Dataset'>\n",
      "\n",
      "au_layers       shape=(278, 358, 4, 181), dtype=float64\n",
      "biomass_cum     shape=(278, 358, 181), dtype=float64\n",
      "biomass_daily   shape=(278, 358, 181), dtype=float64\n",
      "ceh             shape=(278, 358, 181), dtype=float64\n",
      "ceh_pc          shape=(278, 358, 181), dtype=float64\n",
      "ceh_r           shape=(278, 358, 181), dtype=float64\n",
      "cover           shape=(278, 358, 181), dtype=float64\n",
      "dates           shape=(181,), dtype=int64\n",
      "eff_precip      shape=(278, 358, 181), dtype=float64\n",
      "et0             shape=(181,), dtype=float64\n",
      "eur_act         shape=(278, 358, 181), dtype=float64\n",
      "p_au            shape=(278, 358, 181), dtype=float64\n",
      "par             shape=(181,), dtype=float64\n",
      "precip          shape=(181,), dtype=float64\n",
      "root_depth      shape=(278, 358, 181), dtype=float64\n",
      "soil_evap       shape=(278, 358, 181), dtype=float64\n",
      "t_eur           shape=(278, 358, 181), dtype=float64\n",
      "temp            shape=(181,), dtype=float64\n",
      "transpiration   shape=(278, 358, 181), dtype=float64\n",
      "yield_tensor    shape=(278, 358, 181), dtype=float64\n"
     ]
    }
   ],
   "source": [
    "def recorrer_grupo(grupo, nivel=0):\n",
    "    for key, item in grupo.items():\n",
    "        print(\"  \" * nivel + f\"- {key}: {type(item)}\")\n",
    "        if isinstance(item, h5py.Group):\n",
    "            recorrer_grupo(item, nivel + 1)\n",
    "\n",
    "\n",
    "with h5py.File(SIM_PATH.resolve(), \"r\") as f:\n",
    "    recorrer_grupo(f)\n",
    "\n",
    "print()\n",
    "with h5py.File(SIM_PATH.resolve(), \"r\") as f:\n",
    "    for key, dset in f[\"results\"].items():\n",
    "        print(f\"{key:15} shape={dset.shape}, dtype={dset.dtype}\")"
   ]
  }
 ],
 "metadata": {
  "kernelspec": {
   "display_name": "Python 3",
   "language": "python",
   "name": "python3"
  },
  "language_info": {
   "codemirror_mode": {
    "name": "ipython",
    "version": 3
   },
   "file_extension": ".py",
   "mimetype": "text/x-python",
   "name": "python",
   "nbconvert_exporter": "python",
   "pygments_lexer": "ipython3",
   "version": "3.13.0"
  }
 },
 "nbformat": 4,
 "nbformat_minor": 5
}
