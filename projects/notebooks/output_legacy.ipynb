{
 "cells": [
  {
   "cell_type": "markdown",
   "id": "f3bf9c50",
   "metadata": {},
   "source": [
    "# Imports "
   ]
  },
  {
   "cell_type": "code",
   "execution_count": null,
   "id": "6d1a7e95",
   "metadata": {},
   "outputs": [],
   "source": [
    "from pathlib import Path\n",
    "import h5py\n",
    "from typing import Tuple, Dict\n",
    "import numpy as np\n",
    "import matplotlib.pyplot as plt\n",
    "\n",
    "SIM_PATH_LEGACY = Path(\"../data/results/salida_modelo_copy.h5\")\n",
    "print(SIM_PATH_LEGACY.resolve())  # Te muestra la ruta absoluta\n",
    "print(SIM_PATH_LEGACY.exists())  # True si existe, False si no"
   ]
  },
  {
   "cell_type": "markdown",
   "id": "3fbbda0c",
   "metadata": {},
   "source": [
    "# Utility"
   ]
  },
  {
   "cell_type": "code",
   "execution_count": null,
   "id": "c6fcff67",
   "metadata": {},
   "outputs": [],
   "source": [
    "def load_all_datasets(path: str | Path) -> Dict[str, np.ndarray]:\n",
    "    \"\"\"Carga todos los datasets de un archivo HDF5 plano (sin grupos).\"\"\"\n",
    "    arrays: Dict[str, np.ndarray] = {}\n",
    "    with h5py.File(path, \"r\") as f:\n",
    "        for name, ds in f.items():\n",
    "            if isinstance(ds, h5py.Dataset):\n",
    "                arrays[name] = ds[:]  # pasar a numpy\n",
    "    return arrays\n",
    "\n",
    "\n",
    "def rename_h5_keys(file_path: Path, mapping: dict[str, str]) -> None:\n",
    "    \"\"\"Renames datasets or groups in an HDF5 file based on a mapping.\n",
    "\n",
    "    Parameters\n",
    "    ----------\n",
    "    file_path : str\n",
    "        Path to the .h5 file to modify.\n",
    "    mapping : dict[str, str]\n",
    "        Dictionary mapping old keys to new keys.\n",
    "    \"\"\"\n",
    "    with h5py.File(file_path, \"r+\") as f:\n",
    "        for old_key, new_key in mapping.items():\n",
    "            if old_key in f:\n",
    "                print(f\"Renaming '{old_key}' → '{new_key}'\")\n",
    "                f.copy(f[old_key], new_key)\n",
    "                del f[old_key]\n",
    "            else:\n",
    "                print(f\"Key '{old_key}' not found — skipped.\")"
   ]
  },
  {
   "cell_type": "markdown",
   "id": "4df4b26e",
   "metadata": {},
   "source": [
    "# Load"
   ]
  },
  {
   "cell_type": "code",
   "execution_count": null,
   "id": "af42b921",
   "metadata": {},
   "outputs": [],
   "source": [
    "data: Dict[str, np.ndarray] = load_all_datasets(SIM_PATH_LEGACY.resolve())\n",
    "\n",
    "print(data.keys())"
   ]
  },
  {
   "cell_type": "markdown",
   "id": "eca73db2",
   "metadata": {},
   "source": [
    "# Map data"
   ]
  },
  {
   "cell_type": "code",
   "execution_count": null,
   "id": "389444a8",
   "metadata": {},
   "outputs": [],
   "source": [
    "mapping = {\n",
    "    \"EUR\": \"eur_act\",\n",
    "    \"biomasaAcumulada\": \"biomass_cum\",\n",
    "    \"biomasaDiaria\": \"biomass_daily\",\n",
    "    \"cEstresHidrico\": \"ceh\",\n",
    "    \"cEstresHidricoRadiacion\": \"ceh_r\",\n",
    "    \"evaporacion\": \"soil_evap\",\n",
    "    \"porcAguaUtil\": \"p_au\",\n",
    "    \"porcCobertura\": \"cover\",\n",
    "    \"precipitacion_efectiva\": \"eff_precip\",\n",
    "    \"profRaiz\": \"root_depth\",\n",
    "    \"rendimiento\": \"yield_tensor\",\n",
    "    \"transpiracion\": \"transpiration\",\n",
    "}\n",
    "\n",
    "rename_h5_keys(SIM_PATH_LEGACY.resolve(), mapping)"
   ]
  },
  {
   "cell_type": "code",
   "execution_count": null,
   "id": "d22975e7",
   "metadata": {},
   "outputs": [],
   "source": [
    "data_dict = load_all_datasets(SIM_PATH_LEGACY.resolve())\n",
    "print(data.keys())"
   ]
  },
  {
   "cell_type": "code",
   "execution_count": null,
   "id": "fc5ef039",
   "metadata": {},
   "outputs": [],
   "source": [
    "keys_to_drop = [\n",
    "    \"ici\",\n",
    "    \"drenaje\",\n",
    "    \"diasDesdePrec\",\n",
    "    \"percolacion_capa_1\",\n",
    "    \"percolacion_capa_2\",\n",
    "    \"percolacion_capa_3\",\n",
    "    \"aguaUtilDisp1\",\n",
    "    \"aguaUtilDisp2\",\n",
    "    \"aguaUtilDisp3\",\n",
    "    \"aguaUtilDisp4\",\n",
    "    \"cEstrsTerminco\",\n",
    "]\n",
    "\n",
    "data_dict_filtered = {k: v for k, v in data.items() if k not in keys_to_drop}"
   ]
  },
  {
   "cell_type": "code",
   "execution_count": null,
   "id": "d08e029d",
   "metadata": {},
   "outputs": [],
   "source": [
    "for key in data_dict_filtered.keys():\n",
    "    print(key, data_dict_filtered[key].shape)\n",
    "    data_array = data_dict_filtered[key][\n",
    "        :5, 0:3, 0:3\n",
    "    ]  # Legacy:(T=181, W=358, H=278)\n",
    "    data_array = np.nan_to_num(data_array, nan=0.0)\n",
    "    print(data_array)\n",
    "    break\n",
    "    print()"
   ]
  },
  {
   "cell_type": "markdown",
   "id": "ddf1bdc0",
   "metadata": {},
   "source": [
    "# Visualization"
   ]
  },
  {
   "cell_type": "code",
   "execution_count": null,
   "id": "8fd23e24",
   "metadata": {},
   "outputs": [],
   "source": [
    "data_dict_filtered.keys()"
   ]
  },
  {
   "cell_type": "code",
   "execution_count": null,
   "id": "a4243879",
   "metadata": {},
   "outputs": [],
   "source": [
    "# data.shape = (278, 358, 181)\n",
    "for key in data_dict_filtered.keys():\n",
    "    t = np.arange(181)\n",
    "    data_pixel = data_dict_filtered[key][:, 0, 1]\n",
    "\n",
    "    plt.figure(figsize=(10, 6))\n",
    "    plt.plot(\n",
    "        t,\n",
    "        data_pixel,\n",
    "    )  # todas las curvas con baja opacidad\n",
    "    plt.xlabel(\"Time\")\n",
    "    plt.ylabel(f\"Property value-{key}\")\n",
    "    plt.title(f\"{key}\")\n",
    "    plt.show()"
   ]
  },
  {
   "cell_type": "code",
   "execution_count": null,
   "id": "bb0153c3",
   "metadata": {},
   "outputs": [],
   "source": [
    "key = \"biomass_cum\"\n",
    "t = np.arange(181)\n",
    "\n",
    "plt.figure(figsize=(10, 6))\n",
    "for i in range(358):\n",
    "    for j in range(278):\n",
    "        data_pixel = data_dict_filtered[key][:, i, j]\n",
    "        plt.plot(\n",
    "            t,\n",
    "            data_pixel,\n",
    "        )\n",
    "\n",
    "plt.xlabel(\"Time\")\n",
    "plt.ylabel(f\"Property value-{key}\")\n",
    "plt.title(f\"{key}\")\n",
    "plt.show()"
   ]
  },
  {
   "cell_type": "code",
   "execution_count": null,
   "id": "1ddb320d",
   "metadata": {},
   "outputs": [],
   "source": [
    "key = \"yield_tensor\"\n",
    "t = np.arange(181)\n",
    "\n",
    "plt.figure(figsize=(10, 6))\n",
    "for i in range(358):\n",
    "    for j in range(278):\n",
    "        data_pixel = data_dict_filtered[key][:, i, j]\n",
    "        plt.plot(\n",
    "            t,\n",
    "            data_pixel,\n",
    "        )\n",
    "\n",
    "plt.xlabel(\"Time\")\n",
    "plt.ylabel(f\"Property value-{key}\")\n",
    "plt.title(f\"{key}\")\n",
    "plt.show()"
   ]
  },
  {
   "cell_type": "markdown",
   "id": "e5f5c729",
   "metadata": {},
   "source": [
    "# Plot pixel"
   ]
  },
  {
   "cell_type": "code",
   "execution_count": null,
   "id": "f97941a2",
   "metadata": {},
   "outputs": [],
   "source": [
    "key = \"biomass_cum\"\n",
    "\n",
    "\n",
    "def plot_pixel_key(\n",
    "    x: int,\n",
    "    y: int,\n",
    "    data_dict_filtered: Dict[str, np.ndarray],\n",
    "    key: str = \"biomass_cum\",\n",
    "):\n",
    "    t = np.arange(181)\n",
    "    plt.figure(figsize=(10, 6))\n",
    "    data_pixel = data_dict_filtered[key][:, x, y]\n",
    "    plt.plot(\n",
    "        t,\n",
    "        data_pixel,\n",
    "    )\n",
    "    plt.xlabel(\"Time\")\n",
    "    plt.ylabel(f\"Property value-{key}\")\n",
    "    plt.title(f\"{key}\")\n",
    "    plt.show()"
   ]
  },
  {
   "cell_type": "code",
   "execution_count": null,
   "id": "93852fa1",
   "metadata": {},
   "outputs": [],
   "source": [
    "plot_pixel_key(0, 1, data_dict_filtered, key=\"yield_tensor\")"
   ]
  }
 ],
 "metadata": {
  "kernelspec": {
   "display_name": "Python 3",
   "language": "python",
   "name": "python3"
  },
  "language_info": {
   "codemirror_mode": {
    "name": "ipython",
    "version": 3
   },
   "file_extension": ".py",
   "mimetype": "text/x-python",
   "name": "python",
   "nbconvert_exporter": "python",
   "pygments_lexer": "ipython3",
   "version": "3.13.0"
  }
 },
 "nbformat": 4,
 "nbformat_minor": 5
}
